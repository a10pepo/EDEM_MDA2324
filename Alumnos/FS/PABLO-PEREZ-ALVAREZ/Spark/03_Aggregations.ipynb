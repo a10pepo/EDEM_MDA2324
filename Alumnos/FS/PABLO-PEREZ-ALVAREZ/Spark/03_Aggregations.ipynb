{
  "cells": [
    {
      "cell_type": "markdown",
      "metadata": {
        "id": "s4YqddS_vlYH"
      },
      "source": [
        "# Aggregations and Grouping"
      ]
    },
    {
      "cell_type": "markdown",
      "metadata": {
        "id": "WwNMmP6GvoDQ"
      },
      "source": [
        "## Prerrequisites"
      ]
    },
    {
      "cell_type": "markdown",
      "metadata": {
        "id": "HvezyELEvqZH"
      },
      "source": [
        "Install Spark and Java in VM"
      ]
    },
    {
      "cell_type": "code",
      "execution_count": 1,
      "metadata": {
        "id": "7b0-USnDvst_"
      },
      "outputs": [],
      "source": [
        "# install Java8\n",
        "!apt-get install openjdk-8-jdk-headless -qq > /dev/null\n",
        "# download spark 3.5.0\n",
        "!wget -q https://apache.osuosl.org/spark/spark-3.5.0/spark-3.5.0-bin-hadoop3.tgz"
      ]
    },
    {
      "cell_type": "code",
      "execution_count": 2,
      "metadata": {
        "colab": {
          "base_uri": "https://localhost:8080/"
        },
        "id": "RnfbBxRivvWX",
        "outputId": "8b13ccdf-e926-4a67-f9ca-7fc5e0aea83f"
      },
      "outputs": [
        {
          "output_type": "stream",
          "name": "stdout",
          "text": [
            "total 391016\n",
            "drwxr-xr-x 1 root root      4096 Jan 11 17:02 \u001b[0m\u001b[01;34msample_data\u001b[0m/\n",
            "-rw-r--r-- 1 root root 400395283 Sep  9 02:10 spark-3.5.0-bin-hadoop3.tgz\n"
          ]
        }
      ],
      "source": [
        "ls -l # check the .tgz is there"
      ]
    },
    {
      "cell_type": "code",
      "execution_count": 3,
      "metadata": {
        "id": "IhVzl2vbvxhY"
      },
      "outputs": [],
      "source": [
        "# unzip it\n",
        "!tar xf spark-3.5.0-bin-hadoop3.tgz"
      ]
    },
    {
      "cell_type": "code",
      "execution_count": 4,
      "metadata": {
        "id": "8JuU0Aylvxeo"
      },
      "outputs": [],
      "source": [
        "!pip install -q findspark"
      ]
    },
    {
      "cell_type": "code",
      "execution_count": 5,
      "metadata": {
        "colab": {
          "base_uri": "https://localhost:8080/"
        },
        "id": "0hvlB3OlvzxX",
        "outputId": "902f60d0-772f-405c-f1bf-987a521e4e52"
      },
      "outputs": [
        {
          "output_type": "stream",
          "name": "stdout",
          "text": [
            "Requirement already satisfied: py4j in /usr/local/lib/python3.10/dist-packages (0.10.9.7)\n",
            "Requirement already satisfied: folium in /usr/local/lib/python3.10/dist-packages (0.14.0)\n",
            "Requirement already satisfied: branca>=0.6.0 in /usr/local/lib/python3.10/dist-packages (from folium) (0.7.0)\n",
            "Requirement already satisfied: jinja2>=2.9 in /usr/local/lib/python3.10/dist-packages (from folium) (3.1.2)\n",
            "Requirement already satisfied: numpy in /usr/local/lib/python3.10/dist-packages (from folium) (1.23.5)\n",
            "Requirement already satisfied: requests in /usr/local/lib/python3.10/dist-packages (from folium) (2.31.0)\n",
            "Requirement already satisfied: MarkupSafe>=2.0 in /usr/local/lib/python3.10/dist-packages (from jinja2>=2.9->folium) (2.1.3)\n",
            "Requirement already satisfied: charset-normalizer<4,>=2 in /usr/local/lib/python3.10/dist-packages (from requests->folium) (3.3.2)\n",
            "Requirement already satisfied: idna<4,>=2.5 in /usr/local/lib/python3.10/dist-packages (from requests->folium) (3.6)\n",
            "Requirement already satisfied: urllib3<3,>=1.21.1 in /usr/local/lib/python3.10/dist-packages (from requests->folium) (2.0.7)\n",
            "Requirement already satisfied: certifi>=2017.4.17 in /usr/local/lib/python3.10/dist-packages (from requests->folium) (2023.11.17)\n",
            "Requirement already satisfied: plotly in /usr/local/lib/python3.10/dist-packages (5.15.0)\n",
            "Requirement already satisfied: tenacity>=6.2.0 in /usr/local/lib/python3.10/dist-packages (from plotly) (8.2.3)\n",
            "Requirement already satisfied: packaging in /usr/local/lib/python3.10/dist-packages (from plotly) (23.2)\n"
          ]
        }
      ],
      "source": [
        "!pip install py4j\n",
        "\n",
        "# For maps\n",
        "!pip install folium\n",
        "!pip install plotly"
      ]
    },
    {
      "cell_type": "markdown",
      "metadata": {
        "id": "O0C9EzZbv4x4"
      },
      "source": [
        "Define the environment"
      ]
    },
    {
      "cell_type": "code",
      "execution_count": 6,
      "metadata": {
        "id": "Rf4ibNTdv7fv"
      },
      "outputs": [],
      "source": [
        "import os\n",
        "os.environ[\"JAVA_HOME\"] = \"/usr/lib/jvm/java-8-openjdk-amd64\"\n",
        "os.environ[\"SPARK_HOME\"] = \"/content/spark-3.5.0-bin-hadoop3\"\n",
        "os.environ[\"PYSPARK_SUBMIT_ARGS\"] = \"--master local[*] pyspark-shell\""
      ]
    },
    {
      "cell_type": "markdown",
      "metadata": {
        "id": "K90Ld_NkvlYI"
      },
      "source": [
        "Start Spark Session\n",
        "\n",
        "---"
      ]
    },
    {
      "cell_type": "code",
      "execution_count": 7,
      "metadata": {
        "colab": {
          "base_uri": "https://localhost:8080/",
          "height": 35
        },
        "id": "2Fg_PLR_vlYI",
        "outputId": "0cf06df6-907b-4fe5-92d9-30604246506c"
      },
      "outputs": [
        {
          "output_type": "execute_result",
          "data": {
            "text/plain": [
              "'3.5.0'"
            ],
            "application/vnd.google.colaboratory.intrinsic+json": {
              "type": "string"
            }
          },
          "metadata": {},
          "execution_count": 7
        }
      ],
      "source": [
        "import findspark\n",
        "findspark.init(\"spark-3.5.0-bin-hadoop3\")# SPARK_HOME\n",
        "\n",
        "from pyspark.sql import SparkSession\n",
        "\n",
        "# create the session\n",
        "spark = SparkSession \\\n",
        "        .builder \\\n",
        "        .appName(\"Aggregations and Grouping\") \\\n",
        "        .master(\"local[*]\") \\\n",
        "        .getOrCreate()\n",
        "\n",
        "spark.version"
      ]
    },
    {
      "cell_type": "code",
      "execution_count": 8,
      "metadata": {
        "colab": {
          "base_uri": "https://localhost:8080/",
          "height": 219
        },
        "id": "RnamkNcgvlYJ",
        "outputId": "c764b002-1aa7-4bd0-fec4-8828392b7aba"
      },
      "outputs": [
        {
          "output_type": "execute_result",
          "data": {
            "text/plain": [
              "<pyspark.sql.session.SparkSession at 0x7a24e6b5ca00>"
            ],
            "text/html": [
              "\n",
              "            <div>\n",
              "                <p><b>SparkSession - in-memory</b></p>\n",
              "                \n",
              "        <div>\n",
              "            <p><b>SparkContext</b></p>\n",
              "\n",
              "            <p><a href=\"http://7ff7feda0ca9:4040\">Spark UI</a></p>\n",
              "\n",
              "            <dl>\n",
              "              <dt>Version</dt>\n",
              "                <dd><code>v3.5.0</code></dd>\n",
              "              <dt>Master</dt>\n",
              "                <dd><code>local[*]</code></dd>\n",
              "              <dt>AppName</dt>\n",
              "                <dd><code>Aggregations and Grouping</code></dd>\n",
              "            </dl>\n",
              "        </div>\n",
              "        \n",
              "            </div>\n",
              "        "
            ]
          },
          "metadata": {},
          "execution_count": 8
        }
      ],
      "source": [
        "spark"
      ]
    },
    {
      "cell_type": "code",
      "execution_count": 9,
      "metadata": {
        "id": "9AGniM-7vlYK"
      },
      "outputs": [],
      "source": [
        "# For Pandas conversion optimization\n",
        "spark.conf.set(\"spark.sql.execution.arrow.enabled\", \"true\")"
      ]
    },
    {
      "cell_type": "code",
      "execution_count": 10,
      "metadata": {
        "id": "e0DXUK1fvlYK"
      },
      "outputs": [],
      "source": [
        "# Import sql functions\n",
        "from pyspark.sql.functions import *"
      ]
    },
    {
      "cell_type": "markdown",
      "metadata": {
        "id": "1mCPp9fQwEif"
      },
      "source": [
        "Download datasets"
      ]
    },
    {
      "cell_type": "code",
      "execution_count": 11,
      "metadata": {
        "id": "5xTARwq9wLgH",
        "colab": {
          "base_uri": "https://localhost:8080/"
        },
        "outputId": "fcd210e3-e920-4032-c976-1aff6c7dbbb1"
      },
      "outputs": [
        {
          "output_type": "stream",
          "name": "stdout",
          "text": [
            "characters.csv\tmovies.json  vehicles.csv\n"
          ]
        }
      ],
      "source": [
        "!mkdir -p dataset\n",
        "!wget -q https://raw.githubusercontent.com/paponsro/spark_edem_2324/master/dataset/movies.json -P /dataset\n",
        "!wget -q https://github.com/masfworld/datahack_docker/raw/master/zeppelin/data/vehicles.csv -P /dataset\n",
        "!wget -q https://github.com/masfworld/datahack_docker/raw/master/zeppelin/data/characters.csv -P /dataset\n",
        "!ls /dataset"
      ]
    },
    {
      "cell_type": "markdown",
      "metadata": {
        "id": "yD4q57C_vlYK"
      },
      "source": [
        "Read JSON file\n",
        "\n",
        "---"
      ]
    },
    {
      "cell_type": "code",
      "execution_count": 12,
      "metadata": {
        "id": "dZWORhHKvlYK"
      },
      "outputs": [],
      "source": [
        "moviesDF = spark.read \\\n",
        "    .option(\"inferSchema\", True) \\\n",
        "    .json(\"/dataset/movies.json\")"
      ]
    },
    {
      "cell_type": "code",
      "execution_count": 13,
      "metadata": {
        "colab": {
          "base_uri": "https://localhost:8080/"
        },
        "id": "4h2S0ponvlYK",
        "outputId": "792c2002-8036-47c5-e6ba-ca04d5569c09"
      },
      "outputs": [
        {
          "output_type": "stream",
          "name": "stdout",
          "text": [
            "+-------------+--------+-----------+-----------+----------+-----------+-----------+-----------------+------------+----------------------+----------------+------+----------------------+------------+--------+---------------+\n",
            "|Creative_Type|Director|Distributor|IMDB_Rating|IMDB_Votes|MPAA_Rating|Major_Genre|Production_Budget|Release_Date|Rotten_Tomatoes_Rating|Running_Time_min|Source|Title                 |US_DVD_Sales|US_Gross|Worldwide_Gross|\n",
            "+-------------+--------+-----------+-----------+----------+-----------+-----------+-----------------+------------+----------------------+----------------+------+----------------------+------------+--------+---------------+\n",
            "|NULL         |NULL    |Gramercy   |6.1        |1071      |R          |NULL       |8000000          |12-Jun-98   |NULL                  |NULL            |NULL  |The Land Girls        |NULL        |146083  |146083         |\n",
            "|NULL         |NULL    |Strand     |6.9        |207       |R          |Drama      |300000           |7-Aug-98    |NULL                  |NULL            |NULL  |First Love, Last Rites|NULL        |10876   |10876          |\n",
            "+-------------+--------+-----------+-----------+----------+-----------+-----------+-----------------+------------+----------------------+----------------+------+----------------------+------------+--------+---------------+\n",
            "only showing top 2 rows\n",
            "\n",
            "[StructField('Creative_Type', StringType(), True), StructField('Director', StringType(), True), StructField('Distributor', StringType(), True), StructField('IMDB_Rating', DoubleType(), True), StructField('IMDB_Votes', LongType(), True), StructField('MPAA_Rating', StringType(), True), StructField('Major_Genre', StringType(), True), StructField('Production_Budget', LongType(), True), StructField('Release_Date', StringType(), True), StructField('Rotten_Tomatoes_Rating', LongType(), True), StructField('Running_Time_min', LongType(), True), StructField('Source', StringType(), True), StructField('Title', StringType(), True), StructField('US_DVD_Sales', LongType(), True), StructField('US_Gross', LongType(), True), StructField('Worldwide_Gross', LongType(), True)]\n"
          ]
        },
        {
          "output_type": "execute_result",
          "data": {
            "text/plain": [
              "['Creative_Type',\n",
              " 'Director',\n",
              " 'Distributor',\n",
              " 'IMDB_Rating',\n",
              " 'IMDB_Votes',\n",
              " 'MPAA_Rating',\n",
              " 'Major_Genre',\n",
              " 'Production_Budget',\n",
              " 'Release_Date',\n",
              " 'Rotten_Tomatoes_Rating',\n",
              " 'Running_Time_min',\n",
              " 'Source',\n",
              " 'Title',\n",
              " 'US_DVD_Sales',\n",
              " 'US_Gross',\n",
              " 'Worldwide_Gross']"
            ]
          },
          "metadata": {},
          "execution_count": 13
        }
      ],
      "source": [
        "moviesDF.show(2, False)\n",
        "print(moviesDF.schema.fields)\n",
        "moviesDF.columns"
      ]
    },
    {
      "cell_type": "markdown",
      "metadata": {
        "id": "M7Ab75vzvlYK"
      },
      "source": [
        "## Examples"
      ]
    },
    {
      "cell_type": "markdown",
      "metadata": {
        "id": "3L-vJzo5vlYK"
      },
      "source": [
        "Count"
      ]
    },
    {
      "cell_type": "code",
      "execution_count": 14,
      "metadata": {
        "colab": {
          "base_uri": "https://localhost:8080/"
        },
        "id": "eWoq50okvlYL",
        "outputId": "23ab5eb6-f21a-48d2-8e00-a3548641078d"
      },
      "outputs": [
        {
          "output_type": "execute_result",
          "data": {
            "text/plain": [
              "3201"
            ]
          },
          "metadata": {},
          "execution_count": 14
        }
      ],
      "source": [
        "# df rows counting, including NULLS\n",
        "moviesDF.count()"
      ]
    },
    {
      "cell_type": "code",
      "execution_count": 15,
      "metadata": {
        "colab": {
          "base_uri": "https://localhost:8080/"
        },
        "id": "JwFlAfygvlYL",
        "outputId": "e0009d1c-a444-47ea-aa82-805b0bcf44e3"
      },
      "outputs": [
        {
          "output_type": "stream",
          "name": "stdout",
          "text": [
            "+------------------+\n",
            "|count(Major_Genre)|\n",
            "+------------------+\n",
            "|              2926|\n",
            "+------------------+\n",
            "\n"
          ]
        }
      ],
      "source": [
        "# using sql functions, NOT including NULLS\n",
        "genresCountDF = moviesDF.select(count(col(\"Major_Genre\")))\n",
        "genresCountDF.show()"
      ]
    },
    {
      "cell_type": "code",
      "execution_count": 16,
      "metadata": {
        "colab": {
          "base_uri": "https://localhost:8080/"
        },
        "id": "XOnzyw5pvlYL",
        "outputId": "36672173-0523-4998-fe7b-3df5a699ff5c"
      },
      "outputs": [
        {
          "output_type": "stream",
          "name": "stdout",
          "text": [
            "+---------------+\n",
            "|count(Director)|\n",
            "+---------------+\n",
            "|           1870|\n",
            "+---------------+\n",
            "\n"
          ]
        }
      ],
      "source": [
        "directorsCountDF = moviesDF.select(count(moviesDF.Director))\n",
        "directorsCountDF.show()"
      ]
    },
    {
      "cell_type": "code",
      "execution_count": 17,
      "metadata": {
        "colab": {
          "base_uri": "https://localhost:8080/"
        },
        "id": "I6zWJ2x8vlYL",
        "outputId": "9624737c-2700-4fb2-8e19-5bd8fb2b91fd"
      },
      "outputs": [
        {
          "output_type": "stream",
          "name": "stdout",
          "text": [
            "+----------+---------------+\n",
            "|countMajor|count(Director)|\n",
            "+----------+---------------+\n",
            "|      2926|           1870|\n",
            "+----------+---------------+\n",
            "\n"
          ]
        }
      ],
      "source": [
        "moviesDF.select(count(moviesDF.Major_Genre).alias(\"countMajor\"), count(moviesDF.Director)).show()"
      ]
    },
    {
      "cell_type": "code",
      "execution_count": 18,
      "metadata": {
        "colab": {
          "base_uri": "https://localhost:8080/"
        },
        "id": "nWOO2IBsvlYL",
        "outputId": "4ce10957-663d-452e-bfdf-cf7b1cffed52"
      },
      "outputs": [
        {
          "output_type": "stream",
          "name": "stdout",
          "text": [
            "+---------------+\n",
            "|count(Director)|\n",
            "+---------------+\n",
            "|           1870|\n",
            "+---------------+\n",
            "\n",
            "+-----+\n",
            "|count|\n",
            "+-----+\n",
            "| 1870|\n",
            "+-----+\n",
            "\n"
          ]
        }
      ],
      "source": [
        "#using SQL syntax\n",
        "moviesDF.select(expr(\"count(Director)\")).show()\n",
        "moviesDF.selectExpr(\"count(Director) as count\").show()"
      ]
    },
    {
      "cell_type": "code",
      "execution_count": 19,
      "metadata": {
        "id": "QOje34ZavlYL"
      },
      "outputs": [],
      "source": [
        "# using SQL\n",
        "moviesDF.createOrReplaceTempView(\"movies\")"
      ]
    },
    {
      "cell_type": "code",
      "execution_count": 20,
      "metadata": {
        "colab": {
          "base_uri": "https://localhost:8080/"
        },
        "id": "-UTqpjafvlYM",
        "outputId": "aa1bfd61-466b-41a9-d282-74487acc7d54"
      },
      "outputs": [
        {
          "output_type": "stream",
          "name": "stdout",
          "text": [
            "+---------------+\n",
            "|count(Director)|\n",
            "+---------------+\n",
            "|           1870|\n",
            "+---------------+\n",
            "\n"
          ]
        }
      ],
      "source": [
        "spark.sql(\"select count(Director) from movies\").show()"
      ]
    },
    {
      "cell_type": "code",
      "execution_count": 21,
      "metadata": {
        "colab": {
          "base_uri": "https://localhost:8080/"
        },
        "id": "-bsgNq42vlYM",
        "outputId": "854d608d-db05-49e3-be71-a1451c37d287"
      },
      "outputs": [
        {
          "output_type": "stream",
          "name": "stdout",
          "text": [
            "+-------------+------------------+\n",
            "|countDirector|count(Major_Genre)|\n",
            "+-------------+------------------+\n",
            "|         1870|              2926|\n",
            "+-------------+------------------+\n",
            "\n"
          ]
        }
      ],
      "source": [
        "spark.sql(\"select count(Director) as countDirector, count(Major_Genre) from movies\").show()"
      ]
    },
    {
      "cell_type": "markdown",
      "metadata": {
        "id": "7tD9smRhvlYM"
      },
      "source": [
        "Count Distinct"
      ]
    },
    {
      "cell_type": "code",
      "execution_count": 22,
      "metadata": {
        "colab": {
          "base_uri": "https://localhost:8080/"
        },
        "id": "ngR6WFUovlYM",
        "outputId": "f9d8e0da-d022-46b4-e4ca-81cdda88d703"
      },
      "outputs": [
        {
          "output_type": "stream",
          "name": "stdout",
          "text": [
            "+---------------------------+\n",
            "|count(DISTINCT Major_Genre)|\n",
            "+---------------------------+\n",
            "|                         12|\n",
            "+---------------------------+\n",
            "\n"
          ]
        }
      ],
      "source": [
        "moviesDF.select(countDistinct(moviesDF.Major_Genre)).show()"
      ]
    },
    {
      "cell_type": "code",
      "execution_count": 23,
      "metadata": {
        "colab": {
          "base_uri": "https://localhost:8080/"
        },
        "id": "65m9Ev4MvlYM",
        "outputId": "71ea871a-9d78-49c4-9688-1008b975cde1"
      },
      "outputs": [
        {
          "output_type": "stream",
          "name": "stdout",
          "text": [
            "+---------------------------+\n",
            "|count(DISTINCT Major_Genre)|\n",
            "+---------------------------+\n",
            "|                         12|\n",
            "+---------------------------+\n",
            "\n"
          ]
        }
      ],
      "source": [
        "spark.sql(\"select count(distinct Major_Genre) from movies\").show()"
      ]
    },
    {
      "cell_type": "markdown",
      "metadata": {
        "id": "wpwLzjsovlYM"
      },
      "source": [
        "Min and max"
      ]
    },
    {
      "cell_type": "code",
      "execution_count": null,
      "metadata": {
        "colab": {
          "base_uri": "https://localhost:8080/"
        },
        "id": "FPOzkXPEvlYN",
        "outputId": "e01067da-310d-4816-9712-bb1be6e6c35a"
      },
      "outputs": [
        {
          "name": "stdout",
          "output_type": "stream",
          "text": [
            "+----------------------+----------------------+\n",
            "|min(Production_Budget)|max(Production_Budget)|\n",
            "+----------------------+----------------------+\n",
            "|                   218|             300000000|\n",
            "+----------------------+----------------------+\n",
            "\n"
          ]
        }
      ],
      "source": [
        "moviesDF.select(min(moviesDF.Production_Budget), max(moviesDF.Production_Budget)).show()"
      ]
    },
    {
      "cell_type": "code",
      "execution_count": null,
      "metadata": {
        "colab": {
          "base_uri": "https://localhost:8080/"
        },
        "id": "pY6U_O43vlYN",
        "outputId": "dd249a1d-b87f-4107-a91d-86f28e1bf312"
      },
      "outputs": [
        {
          "name": "stdout",
          "output_type": "stream",
          "text": [
            "+----------------------+\n",
            "|min(Production_Budget)|\n",
            "+----------------------+\n",
            "|                   218|\n",
            "+----------------------+\n",
            "\n"
          ]
        }
      ],
      "source": [
        "spark.sql(\"select min(Production_Budget) from movies\").show()"
      ]
    },
    {
      "cell_type": "markdown",
      "metadata": {
        "id": "ID9Q9X7EvlYN"
      },
      "source": [
        "Sum"
      ]
    },
    {
      "cell_type": "code",
      "execution_count": null,
      "metadata": {
        "colab": {
          "base_uri": "https://localhost:8080/"
        },
        "id": "RHKzZO-6vlYN",
        "outputId": "28db29ba-d97b-4ed2-8368-705f43a5af51"
      },
      "outputs": [
        {
          "name": "stdout",
          "output_type": "stream",
          "text": [
            "+-----------+\n",
            "|    salesUS|\n",
            "+-----------+\n",
            "|19684472405|\n",
            "+-----------+\n",
            "\n",
            "+-----------+\n",
            "|      sales|\n",
            "+-----------+\n",
            "|19684472405|\n",
            "+-----------+\n",
            "\n"
          ]
        }
      ],
      "source": [
        "moviesDF.select(sum(moviesDF.US_DVD_Sales).alias(\"salesUS\")).show()\n",
        "moviesDF.selectExpr(\"sum(US_DVD_Sales) as sales\").show()"
      ]
    },
    {
      "cell_type": "markdown",
      "metadata": {
        "id": "Yq5pF3mLvlYN"
      },
      "source": [
        "Average"
      ]
    },
    {
      "cell_type": "code",
      "execution_count": null,
      "metadata": {
        "colab": {
          "base_uri": "https://localhost:8080/"
        },
        "id": "fDVmzYTsvlYN",
        "outputId": "f33c15c5-05e4-4f51-9278-dccc0547ad65"
      },
      "outputs": [
        {
          "name": "stdout",
          "output_type": "stream",
          "text": [
            "+----------------------+\n",
            "|avg(Production_Budget)|\n",
            "+----------------------+\n",
            "|    3.10691714484375E7|\n",
            "+----------------------+\n",
            "\n",
            "+----------------------+\n",
            "|avg(Production_Budget)|\n",
            "+----------------------+\n",
            "|    3.10691714484375E7|\n",
            "+----------------------+\n",
            "\n"
          ]
        }
      ],
      "source": [
        "moviesDF.select(avg(moviesDF.Production_Budget)).show()\n",
        "spark.sql(\"select avg(Production_Budget) from movies\").show()"
      ]
    },
    {
      "cell_type": "markdown",
      "metadata": {
        "id": "4RLegmspvlYN"
      },
      "source": [
        "Stats"
      ]
    },
    {
      "cell_type": "code",
      "execution_count": null,
      "metadata": {
        "colab": {
          "base_uri": "https://localhost:8080/"
        },
        "id": "WTJQxCazvlYO",
        "outputId": "074f42ff-9506-4235-a284-d890e1da873c"
      },
      "outputs": [
        {
          "name": "stdout",
          "output_type": "stream",
          "text": [
            "+---------------------------+\n",
            "|avg(Rotten_Tomatoes_Rating)|\n",
            "+---------------------------+\n",
            "|          54.33692373976734|\n",
            "+---------------------------+\n",
            "\n",
            "+-----------------------------------+\n",
            "|stddev_samp(Rotten_Tomatoes_Rating)|\n",
            "+-----------------------------------+\n",
            "|                  28.07659263787602|\n",
            "+-----------------------------------+\n",
            "\n"
          ]
        }
      ],
      "source": [
        "moviesDF.select(mean(moviesDF.Rotten_Tomatoes_Rating)).show()\n",
        "moviesDF.select(stddev(moviesDF.Rotten_Tomatoes_Rating)).show()"
      ]
    },
    {
      "cell_type": "markdown",
      "metadata": {
        "id": "BrbK9dgcvlYO"
      },
      "source": [
        "### Grouping\n",
        "\n",
        "---"
      ]
    },
    {
      "cell_type": "code",
      "execution_count": null,
      "metadata": {
        "colab": {
          "base_uri": "https://localhost:8080/"
        },
        "id": "yYrN8U1ZvlYO",
        "outputId": "6d8ef70e-3866-4ad3-cc4d-b5190771de6a"
      },
      "outputs": [
        {
          "name": "stdout",
          "output_type": "stream",
          "text": [
            "+-------------------+-----+\n",
            "|        Major_Genre|count|\n",
            "+-------------------+-----+\n",
            "|Concert/Performance|    5|\n",
            "|       Black Comedy|   36|\n",
            "|            Western|   36|\n",
            "|        Documentary|   43|\n",
            "|            Musical|   53|\n",
            "|    Romantic Comedy|  137|\n",
            "|             Horror|  219|\n",
            "|  Thriller/Suspense|  239|\n",
            "|          Adventure|  274|\n",
            "|               null|  275|\n",
            "|             Action|  420|\n",
            "|             Comedy|  675|\n",
            "|              Drama|  789|\n",
            "+-------------------+-----+\n",
            "\n"
          ]
        }
      ],
      "source": [
        "countByGenreGF = moviesDF.groupBy(moviesDF.Major_Genre).count().orderBy(\"count\")\n",
        "countByGenreGF.show()"
      ]
    },
    {
      "cell_type": "code",
      "execution_count": null,
      "metadata": {
        "colab": {
          "base_uri": "https://localhost:8080/"
        },
        "id": "ZZO4-ux9vlYO",
        "outputId": "0cfd68a8-c3e1-459c-f700-b8b1cfd729b0"
      },
      "outputs": [
        {
          "name": "stdout",
          "output_type": "stream",
          "text": [
            "+-------------------+-----+\n",
            "|        Major_Genre|count|\n",
            "+-------------------+-----+\n",
            "|Concert/Performance|    5|\n",
            "|       Black Comedy|   36|\n",
            "|            Western|   36|\n",
            "|        Documentary|   43|\n",
            "|            Musical|   53|\n",
            "|    Romantic Comedy|  137|\n",
            "|             Horror|  219|\n",
            "|  Thriller/Suspense|  239|\n",
            "|          Adventure|  274|\n",
            "|             Action|  420|\n",
            "|             Comedy|  675|\n",
            "|              Drama|  789|\n",
            "+-------------------+-----+\n",
            "\n"
          ]
        }
      ],
      "source": [
        "spark.sql(\"select Major_Genre, count(Major_Genre) as count from movies where Major_Genre is not null group by Major_Genre order by count\").show()"
      ]
    },
    {
      "cell_type": "code",
      "execution_count": null,
      "metadata": {
        "colab": {
          "base_uri": "https://localhost:8080/"
        },
        "id": "eITO9H-gvlYO",
        "outputId": "5abf6fce-9f3a-4329-8a95-9a7ba882fbaa"
      },
      "outputs": [
        {
          "name": "stdout",
          "output_type": "stream",
          "text": [
            "+-------------------+------------------+\n",
            "|        Major_Genre|  avg(IMDB_Rating)|\n",
            "+-------------------+------------------+\n",
            "|        Documentary| 6.997297297297298|\n",
            "|            Western| 6.842857142857142|\n",
            "|       Black Comedy|6.8187500000000005|\n",
            "|              Drama| 6.773441734417339|\n",
            "|               null|  6.50082644628099|\n",
            "|            Musical|             6.448|\n",
            "|  Thriller/Suspense| 6.360944206008582|\n",
            "|          Adventure| 6.345019920318729|\n",
            "|Concert/Performance|             6.325|\n",
            "|             Action| 6.114795918367349|\n",
            "|    Romantic Comedy| 5.873076923076922|\n",
            "|             Comedy| 5.853858267716529|\n",
            "|             Horror|5.6760765550239185|\n",
            "+-------------------+------------------+\n",
            "\n"
          ]
        }
      ],
      "source": [
        "avgRatingByGenreDF = moviesDF.groupBy(col(\"Major_Genre\")).avg(\"IMDB_Rating\").orderBy(col(\"avg(IMDB_Rating)\").desc())\n",
        "avgRatingByGenreDF.show()"
      ]
    },
    {
      "cell_type": "code",
      "execution_count": null,
      "metadata": {
        "colab": {
          "base_uri": "https://localhost:8080/"
        },
        "id": "vnmu7fuovlYO",
        "outputId": "80432633-aaa0-4bc0-ac8d-bd272a10b1b5"
      },
      "outputs": [
        {
          "name": "stdout",
          "output_type": "stream",
          "text": [
            "+-------------------+------------------+\n",
            "|        Major_Genre|               avg|\n",
            "+-------------------+------------------+\n",
            "|        Documentary| 6.997297297297298|\n",
            "|            Western| 6.842857142857142|\n",
            "|       Black Comedy|6.8187500000000005|\n",
            "|              Drama| 6.773441734417339|\n",
            "|               null|  6.50082644628099|\n",
            "|            Musical|             6.448|\n",
            "|  Thriller/Suspense| 6.360944206008582|\n",
            "|          Adventure| 6.345019920318729|\n",
            "|Concert/Performance|             6.325|\n",
            "|             Action| 6.114795918367349|\n",
            "|    Romantic Comedy| 5.873076923076922|\n",
            "|             Comedy| 5.853858267716529|\n",
            "|             Horror|5.6760765550239185|\n",
            "+-------------------+------------------+\n",
            "\n"
          ]
        }
      ],
      "source": [
        "moviesDF.groupBy(col(\"Major_Genre\")).agg(avg(\"IMDB_Rating\") \\\n",
        "    .alias(\"avg\")).orderBy(col(\"avg\").desc()).show()"
      ]
    },
    {
      "cell_type": "code",
      "execution_count": null,
      "metadata": {
        "colab": {
          "base_uri": "https://localhost:8080/"
        },
        "id": "2fk-AjXIvlYO",
        "outputId": "4cdea3f6-b1e3-4db5-bfc2-231d0de2241f"
      },
      "outputs": [
        {
          "name": "stdout",
          "output_type": "stream",
          "text": [
            "+-------------------+--------+------------------+\n",
            "|        Major_Genre|N_Movies|            rating|\n",
            "+-------------------+--------+------------------+\n",
            "|        Documentary|      43| 6.997297297297298|\n",
            "|            Western|      36| 6.842857142857142|\n",
            "|       Black Comedy|      36|6.8187500000000005|\n",
            "|              Drama|     789| 6.773441734417339|\n",
            "|               null|     275|  6.50082644628099|\n",
            "|            Musical|      53|             6.448|\n",
            "|  Thriller/Suspense|     239| 6.360944206008582|\n",
            "|          Adventure|     274| 6.345019920318729|\n",
            "|Concert/Performance|       5|             6.325|\n",
            "|             Action|     420| 6.114795918367349|\n",
            "|    Romantic Comedy|     137| 5.873076923076922|\n",
            "|             Comedy|     675| 5.853858267716529|\n",
            "|             Horror|     219|5.6760765550239185|\n",
            "+-------------------+--------+------------------+\n",
            "\n"
          ]
        }
      ],
      "source": [
        "aggregationsByGenreDF = moviesDF.groupBy(\"Major_Genre\") \\\n",
        "    .agg(\n",
        "        count(\"*\").alias(\"N_Movies\"),\n",
        "        avg(\"IMDB_Rating\").alias(\"rating\")\n",
        "    ) \\\n",
        "    .orderBy(col(\"rating\").desc()).show()"
      ]
    },
    {
      "cell_type": "markdown",
      "metadata": {
        "id": "cQ3xjlDxvlYP"
      },
      "source": [
        "## Exercises\n",
        "   1. Sum up all the worldwide profits of ALL the movies in the DF. Then sum the worldwide profits per director\n",
        "   2. Count how many distinct directors we have\n",
        "   3. Show the mean and standard deviation of US gross revenue for the movies (all the movies)\n",
        "   4. Compute the average IMDB rating and the average US gross revenue PER DIRECTOR\n",
        "   5. Sum up ALL the profits of ALL the movies in the DF. Then sum ALL the profits per director. Can you see null values? Why? How you can solve it?\n"
      ]
    },
    {
      "cell_type": "markdown",
      "metadata": {
        "id": "dzh5hcajvlYP"
      },
      "source": [
        "Exercise 1"
      ]
    },
    {
      "cell_type": "code",
      "source": [
        "moviesDF = spark.read \\\n",
        "    .option(\"inferSchema\", True) \\\n",
        "    .json(\"/dataset/movies.json\")"
      ],
      "metadata": {
        "id": "l8vG44V04hB5"
      },
      "execution_count": 24,
      "outputs": []
    },
    {
      "cell_type": "code",
      "source": [
        "moviesDF.show(2, False)\n",
        "print(moviesDF.schema.fields)\n",
        "moviesDF.columns"
      ],
      "metadata": {
        "colab": {
          "base_uri": "https://localhost:8080/"
        },
        "id": "mkhf8Gio4jvC",
        "outputId": "b82dec39-f1c7-4957-e39b-08f8405ab716"
      },
      "execution_count": 25,
      "outputs": [
        {
          "output_type": "stream",
          "name": "stdout",
          "text": [
            "+-------------+--------+-----------+-----------+----------+-----------+-----------+-----------------+------------+----------------------+----------------+------+----------------------+------------+--------+---------------+\n",
            "|Creative_Type|Director|Distributor|IMDB_Rating|IMDB_Votes|MPAA_Rating|Major_Genre|Production_Budget|Release_Date|Rotten_Tomatoes_Rating|Running_Time_min|Source|Title                 |US_DVD_Sales|US_Gross|Worldwide_Gross|\n",
            "+-------------+--------+-----------+-----------+----------+-----------+-----------+-----------------+------------+----------------------+----------------+------+----------------------+------------+--------+---------------+\n",
            "|NULL         |NULL    |Gramercy   |6.1        |1071      |R          |NULL       |8000000          |12-Jun-98   |NULL                  |NULL            |NULL  |The Land Girls        |NULL        |146083  |146083         |\n",
            "|NULL         |NULL    |Strand     |6.9        |207       |R          |Drama      |300000           |7-Aug-98    |NULL                  |NULL            |NULL  |First Love, Last Rites|NULL        |10876   |10876          |\n",
            "+-------------+--------+-----------+-----------+----------+-----------+-----------+-----------------+------------+----------------------+----------------+------+----------------------+------------+--------+---------------+\n",
            "only showing top 2 rows\n",
            "\n",
            "[StructField('Creative_Type', StringType(), True), StructField('Director', StringType(), True), StructField('Distributor', StringType(), True), StructField('IMDB_Rating', DoubleType(), True), StructField('IMDB_Votes', LongType(), True), StructField('MPAA_Rating', StringType(), True), StructField('Major_Genre', StringType(), True), StructField('Production_Budget', LongType(), True), StructField('Release_Date', StringType(), True), StructField('Rotten_Tomatoes_Rating', LongType(), True), StructField('Running_Time_min', LongType(), True), StructField('Source', StringType(), True), StructField('Title', StringType(), True), StructField('US_DVD_Sales', LongType(), True), StructField('US_Gross', LongType(), True), StructField('Worldwide_Gross', LongType(), True)]\n"
          ]
        },
        {
          "output_type": "execute_result",
          "data": {
            "text/plain": [
              "['Creative_Type',\n",
              " 'Director',\n",
              " 'Distributor',\n",
              " 'IMDB_Rating',\n",
              " 'IMDB_Votes',\n",
              " 'MPAA_Rating',\n",
              " 'Major_Genre',\n",
              " 'Production_Budget',\n",
              " 'Release_Date',\n",
              " 'Rotten_Tomatoes_Rating',\n",
              " 'Running_Time_min',\n",
              " 'Source',\n",
              " 'Title',\n",
              " 'US_DVD_Sales',\n",
              " 'US_Gross',\n",
              " 'Worldwide_Gross']"
            ]
          },
          "metadata": {},
          "execution_count": 25
        }
      ]
    },
    {
      "cell_type": "code",
      "source": [
        "moviesDF.select(sum(moviesDF.Worldwide_Gross).alias(\"worlwideSales\")).show()\n",
        "moviesDF.selectExpr(\"sum(Worldwide_Gross) as sales\").show()"
      ],
      "metadata": {
        "colab": {
          "base_uri": "https://localhost:8080/"
        },
        "id": "JFo9fw5w40Ew",
        "outputId": "4f3c94ef-a3f5-4952-b300-37ba8a35618b"
      },
      "execution_count": 26,
      "outputs": [
        {
          "output_type": "stream",
          "name": "stdout",
          "text": [
            "+-------------+\n",
            "|worlwideSales|\n",
            "+-------------+\n",
            "| 272586820052|\n",
            "+-------------+\n",
            "\n",
            "+------------+\n",
            "|       sales|\n",
            "+------------+\n",
            "|272586820052|\n",
            "+------------+\n",
            "\n"
          ]
        }
      ]
    },
    {
      "cell_type": "code",
      "source": [
        "groupDirectorGF = moviesDF.groupBy(\"Director\").agg(sum(moviesDF.Worldwide_Gross).alias(\"Ventas mundiales\")).show()"
      ],
      "metadata": {
        "colab": {
          "base_uri": "https://localhost:8080/"
        },
        "id": "jmTC02Rq5TB6",
        "outputId": "0c831604-ac88-41b0-a67d-7eb1edc45e8b"
      },
      "execution_count": 39,
      "outputs": [
        {
          "output_type": "stream",
          "name": "stdout",
          "text": [
            "+-------------------+----------------+\n",
            "|           Director|Ventas mundiales|\n",
            "+-------------------+----------------+\n",
            "|        John Milius|        52735525|\n",
            "|       Jim Jarmusch|         6030230|\n",
            "|    Sheldon Lettich|        29090445|\n",
            "|     Chan-wook Park|        23471871|\n",
            "|         King Vidor|        73702232|\n",
            "|         Jared Hess|       145338949|\n",
            "|     Michael Curtiz|        25462500|\n",
            "|      Steven Seagal|        38590458|\n",
            "|  Bradley Rust Grey|           25572|\n",
            "|          Jeff Burr|         1355728|\n",
            "|       Bob Rafelson|        45283350|\n",
            "|Paul Michael Glaser|        38122000|\n",
            "|      Griffin Dunne|        68450430|\n",
            "|        Mark Waters|       563693780|\n",
            "|  Richard Fleischer|        91054152|\n",
            "|     Akira Kurosawa|          320592|\n",
            "|          Mira Nair|        79806867|\n",
            "|  Denzel Washington|        53593730|\n",
            "| Billy Bob Thornton|        18120267|\n",
            "|     Emilio Estevez|        20597806|\n",
            "+-------------------+----------------+\n",
            "only showing top 20 rows\n",
            "\n"
          ]
        }
      ]
    },
    {
      "cell_type": "markdown",
      "metadata": {
        "id": "x_KjX-qxvlYP"
      },
      "source": [
        "Exercise 2"
      ]
    },
    {
      "cell_type": "code",
      "source": [
        "moviesDF.select(countDistinct(moviesDF.Director)).show()\n",
        "moviesDF.select(\"Director\").distinct().count()\n",
        "moviesDF.select(\"Director\").filter(col(\"Director\").isNull()).count()\n",
        "moviesDF.count()"
      ],
      "metadata": {
        "colab": {
          "base_uri": "https://localhost:8080/"
        },
        "id": "LaGdV97t8ZOe",
        "outputId": "4ce6490c-1dbb-41e6-8af4-49e9b7eb69e2"
      },
      "execution_count": 45,
      "outputs": [
        {
          "output_type": "stream",
          "name": "stdout",
          "text": [
            "+------------------------+\n",
            "|count(DISTINCT Director)|\n",
            "+------------------------+\n",
            "|                     550|\n",
            "+------------------------+\n",
            "\n"
          ]
        },
        {
          "output_type": "execute_result",
          "data": {
            "text/plain": [
              "3201"
            ]
          },
          "metadata": {},
          "execution_count": 45
        }
      ]
    },
    {
      "cell_type": "markdown",
      "metadata": {
        "id": "x6iJ5GWlvlYQ"
      },
      "source": [
        "Exercise 3"
      ]
    },
    {
      "cell_type": "code",
      "source": [
        "moviesDF.select(avg(moviesDF.US_Gross)).show()\n",
        "moviesDF.select(stddev(moviesDF.US_Gross)).show()"
      ],
      "metadata": {
        "colab": {
          "base_uri": "https://localhost:8080/"
        },
        "id": "xIhtXvn4ARht",
        "outputId": "fe2228fc-f024-4091-abf7-09e0b8ed7016"
      },
      "execution_count": 53,
      "outputs": [
        {
          "output_type": "stream",
          "name": "stdout",
          "text": [
            "+--------------------+\n",
            "|       avg(US_Gross)|\n",
            "+--------------------+\n",
            "|4.4002085163744524E7|\n",
            "+--------------------+\n",
            "\n",
            "+-------------------+\n",
            "|   stddev(US_Gross)|\n",
            "+-------------------+\n",
            "|6.255531139066214E7|\n",
            "+-------------------+\n",
            "\n"
          ]
        }
      ]
    },
    {
      "cell_type": "markdown",
      "metadata": {
        "id": "qTyt8CotvlYQ"
      },
      "source": [
        "Exercise 4"
      ]
    },
    {
      "cell_type": "code",
      "source": [
        "moviesDF.select(avg(moviesDF.IMDB_Rating)).show()\n",
        "moviesDF.groupBy(\"Director\").agg(avg(\"IMDB_Rating\").alias(\"Media del Rating de IMDB\"), avg(\"US_Gross\").alias(\"Ventas en Estados Unidos\")).show()"
      ],
      "metadata": {
        "colab": {
          "base_uri": "https://localhost:8080/"
        },
        "id": "nKCq98jSE2lh",
        "outputId": "aba17772-2dfa-4462-bf74-1d4ecf2a26c8"
      },
      "execution_count": 62,
      "outputs": [
        {
          "output_type": "stream",
          "name": "stdout",
          "text": [
            "+-----------------+\n",
            "| avg(IMDB_Rating)|\n",
            "+-----------------+\n",
            "|6.283467202141896|\n",
            "+-----------------+\n",
            "\n",
            "+-------------------+------------------------+------------------------+\n",
            "|           Director|Media del Rating de IMDB|Ventas en Estados Unidos|\n",
            "+-------------------+------------------------+------------------------+\n",
            "|        John Milius|                    6.05|            2.63677625E7|\n",
            "|       Jim Jarmusch|                    NULL|               3330230.0|\n",
            "|    Sheldon Lettich|                     4.7|             2.9090445E7|\n",
            "|     Chan-wook Park|                     7.7|                211667.0|\n",
            "|         King Vidor|                   7.375|             1.5675558E7|\n",
            "|         Jared Hess|       6.300000000000001|            6.23694745E7|\n",
            "|     Michael Curtiz|                     7.5|               8487500.0|\n",
            "|      Steven Seagal|                     3.8|             3.8590458E7|\n",
            "|  Bradley Rust Grey|                     6.2|                 25572.0|\n",
            "|          Jeff Burr|                     5.6|               1355728.0|\n",
            "|       Bob Rafelson|                    6.25|               6641675.0|\n",
            "|Paul Michael Glaser|                     6.4|                3.8122E7|\n",
            "|      Griffin Dunne|                     5.5|            2.34819955E7|\n",
            "|        Mark Waters|       6.380000000000001|            6.52360426E7|\n",
            "|  Richard Fleischer|                     4.9|             2.2763538E7|\n",
            "|     Akira Kurosawa|       8.100000000000001|                160296.0|\n",
            "|          Mira Nair|      6.5200000000000005|            1.07934975E7|\n",
            "|  Denzel Washington|       7.449999999999999|            2.56521445E7|\n",
            "| Billy Bob Thornton|                     5.7|             1.5527125E7|\n",
            "|     Emilio Estevez|                     7.1|             1.1242801E7|\n",
            "+-------------------+------------------------+------------------------+\n",
            "only showing top 20 rows\n",
            "\n"
          ]
        }
      ]
    },
    {
      "cell_type": "markdown",
      "metadata": {
        "id": "HOs_Y_y0vlYQ"
      },
      "source": [
        "Exercise 5"
      ]
    },
    {
      "cell_type": "code",
      "source": [
        "moviesDF.select(sum(\"Worldwide_Gross\").alias(\"worlwideSales\")).show()\n",
        "moviesDF.groupBy(\"Director\").agg(sum(\"Worldwide_Gross\").alias(\"Ventas mundiales\")).show()"
      ],
      "metadata": {
        "colab": {
          "base_uri": "https://localhost:8080/"
        },
        "id": "8M0x2eywI5AH",
        "outputId": "2a50d77b-9ac0-49c3-fe8c-4719dd4b3fe9"
      },
      "execution_count": 67,
      "outputs": [
        {
          "output_type": "stream",
          "name": "stdout",
          "text": [
            "+-------------+\n",
            "|worlwideSales|\n",
            "+-------------+\n",
            "| 272586820052|\n",
            "+-------------+\n",
            "\n",
            "+-------------------+----------------+\n",
            "|           Director|Ventas mundiales|\n",
            "+-------------------+----------------+\n",
            "|        John Milius|        52735525|\n",
            "|       Jim Jarmusch|         6030230|\n",
            "|    Sheldon Lettich|        29090445|\n",
            "|     Chan-wook Park|        23471871|\n",
            "|         King Vidor|        73702232|\n",
            "|         Jared Hess|       145338949|\n",
            "|     Michael Curtiz|        25462500|\n",
            "|      Steven Seagal|        38590458|\n",
            "|  Bradley Rust Grey|           25572|\n",
            "|          Jeff Burr|         1355728|\n",
            "|       Bob Rafelson|        45283350|\n",
            "|Paul Michael Glaser|        38122000|\n",
            "|      Griffin Dunne|        68450430|\n",
            "|        Mark Waters|       563693780|\n",
            "|  Richard Fleischer|        91054152|\n",
            "|     Akira Kurosawa|          320592|\n",
            "|          Mira Nair|        79806867|\n",
            "|  Denzel Washington|        53593730|\n",
            "| Billy Bob Thornton|        18120267|\n",
            "|     Emilio Estevez|        20597806|\n",
            "+-------------------+----------------+\n",
            "only showing top 20 rows\n",
            "\n"
          ]
        }
      ]
    }
  ],
  "metadata": {
    "colab": {
      "collapsed_sections": [
        "M7Ab75vzvlYK",
        "BrbK9dgcvlYO",
        "cQ3xjlDxvlYP"
      ],
      "provenance": []
    },
    "kernelspec": {
      "display_name": "Python 3.10.0 64-bit",
      "language": "python",
      "name": "python3"
    },
    "language_info": {
      "codemirror_mode": {
        "name": "ipython",
        "version": 3
      },
      "file_extension": ".py",
      "mimetype": "text/x-python",
      "name": "python",
      "nbconvert_exporter": "python",
      "pygments_lexer": "ipython3",
      "version": "3.10.0"
    },
    "orig_nbformat": 4,
    "vscode": {
      "interpreter": {
        "hash": "ff1af5cda0bea4fe5c4ebc1f94ab9f13d8998f98d08e16d8aba48673b9d00116"
      }
    }
  },
  "nbformat": 4,
  "nbformat_minor": 0
}