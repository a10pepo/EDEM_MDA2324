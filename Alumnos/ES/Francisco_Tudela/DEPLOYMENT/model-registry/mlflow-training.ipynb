{
 "cells": [
  {
   "attachments": {},
   "cell_type": "markdown",
   "metadata": {},
   "source": [
    "<font color=\"#CA3532\"><h1 align=\"left\">Master Data Analytics. EDEM.</h1></font>\n",
    "<font color=\"#6E6E6E\"><h2 align=\"left\">Herramientas MLOps.</h2></font> \n",
    "<font color=\"#6E6E6E\"><h2 align=\"left\">Tarea 2. Usando MLFlow como model registry.</h2></font> \n",
    "#### Daniel Ruiz Riquelme"
   ]
  },
  {
   "cell_type": "code",
   "execution_count": 3,
   "metadata": {},
   "outputs": [],
   "source": [
    "import mlflow\n",
    "from mlflow import log_metric, log_param, log_artifact"
   ]
  },
  {
   "cell_type": "code",
   "execution_count": 4,
   "metadata": {},
   "outputs": [
    {
     "name": "stderr",
     "output_type": "stream",
     "text": [
      "\"pwd\" no se reconoce como un comando interno o externo,\n",
      "programa o archivo por lotes ejecutable.\n"
     ]
    }
   ],
   "source": [
    "!pwd"
   ]
  },
  {
   "cell_type": "code",
   "execution_count": null,
   "metadata": {},
   "outputs": [],
   "source": [
    "# 1. Install MLFlow\n",
    "# !pip install mlflow[extras]\n",
    "# !pip freeze | grep mlflow"
   ]
  },
  {
   "cell_type": "code",
   "execution_count": null,
   "metadata": {},
   "outputs": [],
   "source": [
    "# 2. Setup MLFlow Tracking Server\n",
    "# Run the following command in a terminal to start the MLFlow Tracking Server\n",
    "# Configure mlflow to store all in a local directory\n",
    "# !mlflow server --backend-store-uri ./mlruns --default-artifact-root ./mlruns"
   ]
  },
  {
   "cell_type": "code",
   "execution_count": 5,
   "metadata": {},
   "outputs": [
    {
     "name": "stderr",
     "output_type": "stream",
     "text": [
      "2024/05/21 18:52:29 INFO mlflow.tracking.fluent: Experiment with name 'mlflow-model-training-iris' does not exist. Creating a new experiment.\n"
     ]
    },
    {
     "data": {
      "text/plain": [
       "<Experiment: artifact_location='./mlruns/664776360586231533', creation_time=1716310349781, experiment_id='664776360586231533', last_update_time=1716310349781, lifecycle_stage='active', name='mlflow-model-training-iris', tags={}>"
      ]
     },
     "execution_count": 5,
     "metadata": {},
     "output_type": "execute_result"
    }
   ],
   "source": [
    "# 3. Create a new experiment\n",
    "# This is a local tracking server. You can also use a remote tracking server. See https://mlflow.org/docs/latest/tracking.html for more details.\n",
    "# Remote tracking server will be simulated later\n",
    "\n",
    "import mlflow\n",
    "mlflow.set_tracking_uri(\"http://localhost:5000\")\n",
    "mlflow.set_experiment(\"mlflow-model-training-iris\")"
   ]
  },
  {
   "cell_type": "code",
   "execution_count": 6,
   "metadata": {},
   "outputs": [
    {
     "name": "stderr",
     "output_type": "stream",
     "text": [
      "c:\\Users\\Paco\\AppData\\Local\\Programs\\Python\\Python310\\lib\\site-packages\\_distutils_hack\\__init__.py:33: UserWarning: Setuptools is replacing distutils.\n",
      "  warnings.warn(\"Setuptools is replacing distutils.\")\n"
     ]
    }
   ],
   "source": [
    "# 4. Log a model experiment result\n",
    "\n",
    "# Lets first create a simple function to train a model\n",
    "# The function will receive a set of hyperparameters and return the model and the accuracy\n",
    "import datetime\n",
    "\n",
    "def get_data():\n",
    "    from sklearn import datasets\n",
    "\n",
    "    # X, y = datasets.make_classification(n_samples=1000, n_features=4, n_informative=4, n_redundant=0, n_classes=3, n_clusters_per_class=1, class_sep=0.5, random_state=40)\n",
    "    # use iris dataset\n",
    "    X, y = datasets.load_breast_cancer(return_X_y=True)\n",
    "    return X, y\n",
    "\n",
    "def train_model(hyperparameters):\n",
    "    from sklearn.ensemble import RandomForestClassifier\n",
    "    from sklearn.metrics import accuracy_score\n",
    "    from sklearn.model_selection import train_test_split\n",
    "    import mlflow.sklearn\n",
    "    X, y = get_data()\n",
    "    X_train, X_test, y_train, y_test = train_test_split(X, y, test_size=0.2, random_state=40)\n",
    "    model = RandomForestClassifier(**hyperparameters)\n",
    "    model.fit(X_train, y_train)\n",
    "    y_pred = model.predict(X_test)\n",
    "    accuracy = accuracy_score(y_pred, y_test)\n",
    "    return model, accuracy\n",
    "\n",
    "# Now lets train a model with some hyperparameters\n",
    "hyperparameters = {\"n_estimators\": 10, \"max_depth\": 5}\n",
    "model, accuracy = train_model(hyperparameters)\n",
    "\n",
    "# Now lets log the model and the accuracy\n",
    "date = datetime.datetime.now().strftime(\"%Y-%m-%d-%H-%M-%S\")\n",
    "with mlflow.start_run(run_name=f\"mlflow-training-{date}\"):\n",
    "    \n",
    "    # Hyperparameters are logged as parameters\n",
    "    for hyperparameter, value in hyperparameters.items():\n",
    "        mlflow.log_param(hyperparameter, value)\n",
    "    \n",
    "    # Accuracy is logged as a metric \n",
    "    mlflow.log_metric(\"accuracy\", accuracy)\n",
    "    \n",
    "    # Model is logged as an artifact\n",
    "    mlflow.sklearn.log_model(model, \"model\")"
   ]
  },
  {
   "cell_type": "code",
   "execution_count": 8,
   "metadata": {},
   "outputs": [
    {
     "name": "stderr",
     "output_type": "stream",
     "text": [
      "\u001b[32m[I 2024-05-21 19:01:06,152]\u001b[0m A new study created in memory with name: no-name-36f1079f-2d2b-4b90-a671-f0824264afb0\u001b[0m\n"
     ]
    },
    {
     "name": "stderr",
     "output_type": "stream",
     "text": [
      "\u001b[32m[I 2024-05-21 19:01:10,423]\u001b[0m Trial 0 finished with value: 0.9420431609998448 and parameters: {'n_estimators': 63, 'max_depth': 6, 'min_samples_split': 3, 'min_samples_leaf': 14, 'max_features': 0.8720977387026925}. Best is trial 0 with value: 0.9420431609998448.\u001b[0m\n",
      "\u001b[32m[I 2024-05-21 19:01:11,455]\u001b[0m Trial 1 finished with value: 0.9455519329296692 and parameters: {'n_estimators': 23, 'max_depth': 9, 'min_samples_split': 20, 'min_samples_leaf': 2, 'max_features': 0.9474708974883193}. Best is trial 0 with value: 0.9420431609998448.\u001b[0m\n",
      "\u001b[32m[I 2024-05-21 19:01:11,973]\u001b[0m Trial 2 finished with value: 0.9455519329296692 and parameters: {'n_estimators': 29, 'max_depth': 3, 'min_samples_split': 15, 'min_samples_leaf': 11, 'max_features': 0.11841394353091343}. Best is trial 0 with value: 0.9420431609998448.\u001b[0m\n",
      "\u001b[32m[I 2024-05-21 19:01:12,645]\u001b[0m Trial 3 finished with value: 0.9490607048594939 and parameters: {'n_estimators': 38, 'max_depth': 8, 'min_samples_split': 14, 'min_samples_leaf': 10, 'max_features': 0.14215323989146217}. Best is trial 0 with value: 0.9420431609998448.\u001b[0m\n",
      "\u001b[32m[I 2024-05-21 19:01:14,794]\u001b[0m Trial 4 finished with value: 0.9473063188945815 and parameters: {'n_estimators': 81, 'max_depth': 10, 'min_samples_split': 8, 'min_samples_leaf': 15, 'max_features': 0.44203240085204953}. Best is trial 0 with value: 0.9420431609998448.\u001b[0m\n",
      "\u001b[32m[I 2024-05-21 19:01:15,678]\u001b[0m Trial 5 finished with value: 0.9525694767893185 and parameters: {'n_estimators': 33, 'max_depth': 4, 'min_samples_split': 4, 'min_samples_leaf': 6, 'max_features': 0.4369445400800337}. Best is trial 0 with value: 0.9420431609998448.\u001b[0m\n",
      "\u001b[32m[I 2024-05-21 19:01:18,187]\u001b[0m Trial 6 finished with value: 0.9455519329296692 and parameters: {'n_estimators': 70, 'max_depth': 6, 'min_samples_split': 7, 'min_samples_leaf': 13, 'max_features': 0.7961731579941914}. Best is trial 0 with value: 0.9420431609998448.\u001b[0m\n",
      "\u001b[32m[I 2024-05-21 19:01:19,942]\u001b[0m Trial 7 finished with value: 0.9525694767893185 and parameters: {'n_estimators': 56, 'max_depth': 4, 'min_samples_split': 10, 'min_samples_leaf': 8, 'max_features': 0.4154403852496573}. Best is trial 0 with value: 0.9420431609998448.\u001b[0m\n",
      "\u001b[32m[I 2024-05-21 19:01:21,980]\u001b[0m Trial 8 finished with value: 0.943797546964757 and parameters: {'n_estimators': 92, 'max_depth': 2, 'min_samples_split': 11, 'min_samples_leaf': 18, 'max_features': 0.23027749746879453}. Best is trial 0 with value: 0.9420431609998448.\u001b[0m\n",
      "\u001b[32m[I 2024-05-21 19:01:25,398]\u001b[0m Trial 9 finished with value: 0.9578636857630801 and parameters: {'n_estimators': 73, 'max_depth': 6, 'min_samples_split': 15, 'min_samples_leaf': 8, 'max_features': 0.9480008211203877}. Best is trial 0 with value: 0.9420431609998448.\u001b[0m\n",
      "\u001b[32m[I 2024-05-21 19:01:25,713]\u001b[0m Trial 10 finished with value: 0.9297314081664337 and parameters: {'n_estimators': 3, 'max_depth': 7, 'min_samples_split': 3, 'min_samples_leaf': 20, 'max_features': 0.6817098416194258}. Best is trial 10 with value: 0.9297314081664337.\u001b[0m\n",
      "\u001b[32m[I 2024-05-21 19:01:26,516]\u001b[0m Trial 11 finished with value: 0.935010091600683 and parameters: {'n_estimators': 7, 'max_depth': 7, 'min_samples_split': 2, 'min_samples_leaf': 19, 'max_features': 0.6920873259263262}. Best is trial 10 with value: 0.9297314081664337.\u001b[0m\n",
      "\u001b[32m[I 2024-05-21 19:01:26,968]\u001b[0m Trial 12 finished with value: 0.9261915851575843 and parameters: {'n_estimators': 2, 'max_depth': 8, 'min_samples_split': 2, 'min_samples_leaf': 20, 'max_features': 0.6859927367334722}. Best is trial 12 with value: 0.9261915851575843.\u001b[0m\n",
      "\u001b[32m[I 2024-05-21 19:01:27,353]\u001b[0m Trial 13 finished with value: 0.9068467629250117 and parameters: {'n_estimators': 1, 'max_depth': 8, 'min_samples_split': 6, 'min_samples_leaf': 20, 'max_features': 0.6059028647961934}. Best is trial 13 with value: 0.9068467629250117.\u001b[0m\n",
      "\u001b[32m[I 2024-05-21 19:01:28,048]\u001b[0m Trial 14 finished with value: 0.9350256171401956 and parameters: {'n_estimators': 14, 'max_depth': 10, 'min_samples_split': 6, 'min_samples_leaf': 17, 'max_features': 0.5998258077120281}. Best is trial 13 with value: 0.9068467629250117.\u001b[0m\n",
      "\u001b[32m[I 2024-05-21 19:01:28,628]\u001b[0m Trial 15 finished with value: 0.9473063188945815 and parameters: {'n_estimators': 17, 'max_depth': 8, 'min_samples_split': 6, 'min_samples_leaf': 16, 'max_features': 0.5511886525419476}. Best is trial 13 with value: 0.9068467629250117.\u001b[0m\n",
      "\u001b[32m[I 2024-05-21 19:01:30,278]\u001b[0m Trial 16 finished with value: 0.9367489520260829 and parameters: {'n_estimators': 44, 'max_depth': 8, 'min_samples_split': 5, 'min_samples_leaf': 20, 'max_features': 0.747390395982794}. Best is trial 13 with value: 0.9068467629250117.\u001b[0m\n",
      "\u001b[32m[I 2024-05-21 19:01:30,608]\u001b[0m Trial 17 finished with value: 0.9367334264865704 and parameters: {'n_estimators': 4, 'max_depth': 9, 'min_samples_split': 9, 'min_samples_leaf': 2, 'max_features': 0.3052816816743593}. Best is trial 13 with value: 0.9068467629250117.\u001b[0m\n",
      "\u001b[32m[I 2024-05-21 19:01:31,449]\u001b[0m Trial 18 finished with value: 0.9437820214252446 and parameters: {'n_estimators': 16, 'max_depth': 7, 'min_samples_split': 2, 'min_samples_leaf': 17, 'max_features': 0.6524348528466003}. Best is trial 13 with value: 0.9068467629250117.\u001b[0m\n",
      "\u001b[32m[I 2024-05-21 19:01:31,755]\u001b[0m Trial 19 finished with value: 0.9332557056357709 and parameters: {'n_estimators': 1, 'max_depth': 9, 'min_samples_split': 13, 'min_samples_leaf': 12, 'max_features': 0.8151208210391229}. Best is trial 13 with value: 0.9068467629250117.\u001b[0m\n",
      "\u001b[32m[I 2024-05-21 19:01:33,697]\u001b[0m Trial 20 finished with value: 0.9402887750349324 and parameters: {'n_estimators': 49, 'max_depth': 5, 'min_samples_split': 5, 'min_samples_leaf': 15, 'max_features': 0.550212175915532}. Best is trial 13 with value: 0.9068467629250117.\u001b[0m\n",
      "\u001b[32m[I 2024-05-21 19:01:34,218]\u001b[0m Trial 21 finished with value: 0.9350256171401956 and parameters: {'n_estimators': 10, 'max_depth': 7, 'min_samples_split': 4, 'min_samples_leaf': 20, 'max_features': 0.6628187075534395}. Best is trial 13 with value: 0.9068467629250117.\u001b[0m\n",
      "\u001b[32m[I 2024-05-21 19:01:35,006]\u001b[0m Trial 22 finished with value: 0.9367644775655954 and parameters: {'n_estimators': 24, 'max_depth': 8, 'min_samples_split': 2, 'min_samples_leaf': 20, 'max_features': 0.7271424262727396}. Best is trial 13 with value: 0.9068467629250117.\u001b[0m\n",
      "\u001b[32m[I 2024-05-21 19:01:35,393]\u001b[0m Trial 23 finished with value: 0.9402887750349326 and parameters: {'n_estimators': 6, 'max_depth': 7, 'min_samples_split': 4, 'min_samples_leaf': 18, 'max_features': 0.6211529821794253}. Best is trial 13 with value: 0.9068467629250117.\u001b[0m\n",
      "\u001b[32m[I 2024-05-21 19:01:35,650]\u001b[0m Trial 24 finished with value: 0.9192206179164726 and parameters: {'n_estimators': 2, 'max_depth': 9, 'min_samples_split': 7, 'min_samples_leaf': 18, 'max_features': 0.495514078904874}. Best is trial 13 with value: 0.9068467629250117.\u001b[0m\n",
      "\u001b[32m[I 2024-05-21 19:01:36,295]\u001b[0m Trial 25 finished with value: 0.9367644775655954 and parameters: {'n_estimators': 19, 'max_depth': 10, 'min_samples_split': 8, 'min_samples_leaf': 18, 'max_features': 0.48431420891525007}. Best is trial 13 with value: 0.9068467629250117.\u001b[0m\n",
      "\u001b[32m[I 2024-05-21 19:01:36,779]\u001b[0m Trial 26 finished with value: 0.9455364073901569 and parameters: {'n_estimators': 12, 'max_depth': 9, 'min_samples_split': 7, 'min_samples_leaf': 16, 'max_features': 0.3458593038036216}. Best is trial 13 with value: 0.9068467629250117.\u001b[0m\n",
      "\u001b[32m[I 2024-05-21 19:01:37,555]\u001b[0m Trial 27 finished with value: 0.9473218444340941 and parameters: {'n_estimators': 30, 'max_depth': 9, 'min_samples_split': 12, 'min_samples_leaf': 18, 'max_features': 0.5300555470853227}. Best is trial 13 with value: 0.9068467629250117.\u001b[0m\n",
      "\u001b[32m[I 2024-05-21 19:01:38,510]\u001b[0m Trial 28 finished with value: 0.9543549138332557 and parameters: {'n_estimators': 38, 'max_depth': 8, 'min_samples_split': 20, 'min_samples_leaf': 4, 'max_features': 0.3314292891961055}. Best is trial 13 with value: 0.9068467629250117.\u001b[0m\n",
      "\u001b[32m[I 2024-05-21 19:01:39,375]\u001b[0m Trial 29 finished with value: 0.9473063188945815 and parameters: {'n_estimators': 23, 'max_depth': 5, 'min_samples_split': 10, 'min_samples_leaf': 14, 'max_features': 0.8403288303887877}. Best is trial 13 with value: 0.9068467629250117.\u001b[0m\n",
      "\u001b[32m[I 2024-05-21 19:01:42,739]\u001b[0m Trial 30 finished with value: 0.9402887750349326 and parameters: {'n_estimators': 99, 'max_depth': 10, 'min_samples_split': 17, 'min_samples_leaf': 19, 'max_features': 0.8919140405154863}. Best is trial 13 with value: 0.9068467629250117.\u001b[0m\n",
      "\u001b[32m[I 2024-05-21 19:01:43,182]\u001b[0m Trial 31 finished with value: 0.9226517621487347 and parameters: {'n_estimators': 2, 'max_depth': 7, 'min_samples_split': 3, 'min_samples_leaf': 20, 'max_features': 0.596241231147713}. Best is trial 13 with value: 0.9068467629250117.\u001b[0m\n",
      "\u001b[32m[I 2024-05-21 19:01:43,539]\u001b[0m Trial 32 finished with value: 0.9103555348548362 and parameters: {'n_estimators': 1, 'max_depth': 8, 'min_samples_split': 3, 'min_samples_leaf': 19, 'max_features': 0.5896134375501321}. Best is trial 13 with value: 0.9068467629250117.\u001b[0m\n",
      "\u001b[32m[I 2024-05-21 19:01:44,128]\u001b[0m Trial 33 finished with value: 0.9385343890700202 and parameters: {'n_estimators': 10, 'max_depth': 9, 'min_samples_split': 5, 'min_samples_leaf': 17, 'max_features': 0.5950171433675155}. Best is trial 13 with value: 0.9068467629250117.\u001b[0m\n",
      "\u001b[32m[I 2024-05-21 19:01:44,543]\u001b[0m Trial 34 finished with value: 0.9069243906225741 and parameters: {'n_estimators': 1, 'max_depth': 6, 'min_samples_split': 3, 'min_samples_leaf': 19, 'max_features': 0.4985879400290992}. Best is trial 13 with value: 0.9068467629250117.\u001b[0m\n",
      "\u001b[32m[I 2024-05-21 19:01:45,524]\u001b[0m Trial 35 finished with value: 0.9402732494954199 and parameters: {'n_estimators': 22, 'max_depth': 5, 'min_samples_split': 6, 'min_samples_leaf': 15, 'max_features': 0.49282077409688607}. Best is trial 13 with value: 0.9068467629250117.\u001b[0m\n",
      "\u001b[32m[I 2024-05-21 19:01:46,316]\u001b[0m Trial 36 finished with value: 0.9332557056357709 and parameters: {'n_estimators': 11, 'max_depth': 6, 'min_samples_split': 8, 'min_samples_leaf': 16, 'max_features': 0.38836500927947565}. Best is trial 13 with value: 0.9068467629250117.\u001b[0m\n",
      "\u001b[32m[I 2024-05-21 19:01:47,630]\u001b[0m Trial 37 finished with value: 0.9297624592454585 and parameters: {'n_estimators': 28, 'max_depth': 6, 'min_samples_split': 4, 'min_samples_leaf': 19, 'max_features': 0.48567555308450006}. Best is trial 13 with value: 0.9068467629250117.\u001b[0m\n",
      "\u001b[32m[I 2024-05-21 19:01:48,228]\u001b[0m Trial 38 finished with value: 0.9490607048594939 and parameters: {'n_estimators': 8, 'max_depth': 4, 'min_samples_split': 7, 'min_samples_leaf': 10, 'max_features': 0.2714958378215975}. Best is trial 13 with value: 0.9068467629250117.\u001b[0m\n",
      "\u001b[32m[I 2024-05-21 19:01:49,293]\u001b[0m Trial 39 finished with value: 0.9473063188945815 and parameters: {'n_estimators': 36, 'max_depth': 10, 'min_samples_split': 18, 'min_samples_leaf': 13, 'max_features': 0.4498962454497992}. Best is trial 13 with value: 0.9068467629250117.\u001b[0m\n",
      "\u001b[32m[I 2024-05-21 19:01:51,559]\u001b[0m Trial 40 finished with value: 0.943797546964757 and parameters: {'n_estimators': 57, 'max_depth': 8, 'min_samples_split': 3, 'min_samples_leaf': 14, 'max_features': 0.20032085843287872}. Best is trial 13 with value: 0.9068467629250117.\u001b[0m\n",
      "\u001b[32m[I 2024-05-21 19:01:51,856]\u001b[0m Trial 41 finished with value: 0.9051234280391244 and parameters: {'n_estimators': 1, 'max_depth': 7, 'min_samples_split': 3, 'min_samples_leaf': 19, 'max_features': 0.57141150901562}. Best is trial 41 with value: 0.9051234280391244.\u001b[0m\n",
      "\u001b[32m[I 2024-05-21 19:01:52,587]\u001b[0m Trial 42 finished with value: 0.9402577239559076 and parameters: {'n_estimators': 14, 'max_depth': 7, 'min_samples_split': 5, 'min_samples_leaf': 19, 'max_features': 0.536175245280272}. Best is trial 41 with value: 0.9051234280391244.\u001b[0m\n",
      "\u001b[32m[I 2024-05-21 19:01:52,926]\u001b[0m Trial 43 finished with value: 0.9349945660611706 and parameters: {'n_estimators': 6, 'max_depth': 6, 'min_samples_split': 4, 'min_samples_leaf': 17, 'max_features': 0.38922446972936664}. Best is trial 41 with value: 0.9051234280391244.\u001b[0m\n",
      "\u001b[32m[I 2024-05-21 19:01:53,261]\u001b[0m Trial 44 finished with value: 0.9209439528023597 and parameters: {'n_estimators': 1, 'max_depth': 8, 'min_samples_split': 3, 'min_samples_leaf': 18, 'max_features': 0.6315461902474103}. Best is trial 41 with value: 0.9051234280391244.\u001b[0m\n",
      "\u001b[32m[I 2024-05-21 19:01:54,477]\u001b[0m Trial 45 finished with value: 0.9420276354603322 and parameters: {'n_estimators': 19, 'max_depth': 9, 'min_samples_split': 7, 'min_samples_leaf': 19, 'max_features': 0.7368799148065603}. Best is trial 41 with value: 0.9051234280391244.\u001b[0m\n",
      "\u001b[32m[I 2024-05-21 19:01:55,041]\u001b[0m Trial 46 finished with value: 0.9455674584691819 and parameters: {'n_estimators': 7, 'max_depth': 2, 'min_samples_split': 9, 'min_samples_leaf': 7, 'max_features': 0.5655368385513334}. Best is trial 41 with value: 0.9051234280391244.\u001b[0m\n",
      "\u001b[32m[I 2024-05-21 19:01:58,010]\u001b[0m Trial 47 finished with value: 0.9473063188945815 and parameters: {'n_estimators': 85, 'max_depth': 8, 'min_samples_split': 2, 'min_samples_leaf': 16, 'max_features': 0.5007445306085808}. Best is trial 41 with value: 0.9051234280391244.\u001b[0m\n",
      "\u001b[32m[I 2024-05-21 19:02:00,748]\u001b[0m Trial 48 finished with value: 0.9455519329296692 and parameters: {'n_estimators': 69, 'max_depth': 7, 'min_samples_split': 6, 'min_samples_leaf': 19, 'max_features': 0.446364903033603}. Best is trial 41 with value: 0.9051234280391244.\u001b[0m\n",
      "\u001b[32m[I 2024-05-21 19:02:01,561]\u001b[0m Trial 49 finished with value: 0.9437820214252446 and parameters: {'n_estimators': 5, 'max_depth': 5, 'min_samples_split': 5, 'min_samples_leaf': 18, 'max_features': 0.5776998969686149}. Best is trial 41 with value: 0.9051234280391244.\u001b[0m\n",
      "\u001b[32m[I 2024-05-21 19:02:02,961]\u001b[0m Trial 50 finished with value: 0.9455519329296692 and parameters: {'n_estimators': 14, 'max_depth': 9, 'min_samples_split': 3, 'min_samples_leaf': 17, 'max_features': 0.4131398513938613}. Best is trial 41 with value: 0.9051234280391244.\u001b[0m\n",
      "\u001b[32m[I 2024-05-21 19:02:03,548]\u001b[0m Trial 51 finished with value: 0.9244837758112092 and parameters: {'n_estimators': 2, 'max_depth': 8, 'min_samples_split': 3, 'min_samples_leaf': 19, 'max_features': 0.6479892884013805}. Best is trial 41 with value: 0.9051234280391244.\u001b[0m\n",
      "\u001b[32m[I 2024-05-21 19:02:04,016]\u001b[0m Trial 52 finished with value: 0.9297779847849712 and parameters: {'n_estimators': 1, 'max_depth': 8, 'min_samples_split': 4, 'min_samples_leaf': 18, 'max_features': 0.6143453004407463}. Best is trial 41 with value: 0.9051234280391244.\u001b[0m\n",
      "\u001b[32m[I 2024-05-21 19:02:04,351]\u001b[0m Trial 53 finished with value: 0.9138798323241734 and parameters: {'n_estimators': 1, 'max_depth': 7, 'min_samples_split': 2, 'min_samples_leaf': 20, 'max_features': 0.6354060222204752}. Best is trial 41 with value: 0.9051234280391244.\u001b[0m\n",
      "\u001b[32m[I 2024-05-21 19:02:04,934]\u001b[0m Trial 54 finished with value: 0.9315013196708586 and parameters: {'n_estimators': 9, 'max_depth': 6, 'min_samples_split': 2, 'min_samples_leaf': 20, 'max_features': 0.7063651933192516}. Best is trial 41 with value: 0.9051234280391244.\u001b[0m\n",
      "\u001b[32m[I 2024-05-21 19:02:05,255]\u001b[0m Trial 55 finished with value: 0.9349945660611707 and parameters: {'n_estimators': 5, 'max_depth': 7, 'min_samples_split': 2, 'min_samples_leaf': 20, 'max_features': 0.5142675878243398}. Best is trial 41 with value: 0.9051234280391244.\u001b[0m\n",
      "\u001b[32m[I 2024-05-21 19:02:05,948]\u001b[0m Trial 56 finished with value: 0.943797546964757 and parameters: {'n_estimators': 18, 'max_depth': 7, 'min_samples_split': 6, 'min_samples_leaf': 19, 'max_features': 0.5535347248105473}. Best is trial 41 with value: 0.9051234280391244.\u001b[0m\n",
      "\u001b[32m[I 2024-05-21 19:02:06,624]\u001b[0m Trial 57 finished with value: 0.9543083372147182 and parameters: {'n_estimators': 14, 'max_depth': 6, 'min_samples_split': 5, 'min_samples_leaf': 9, 'max_features': 0.7737919335889658}. Best is trial 41 with value: 0.9051234280391244.\u001b[0m\n",
      "\u001b[32m[I 2024-05-21 19:02:07,009]\u001b[0m Trial 58 finished with value: 0.9402732494954199 and parameters: {'n_estimators': 8, 'max_depth': 7, 'min_samples_split': 3, 'min_samples_leaf': 20, 'max_features': 0.4693682428746312}. Best is trial 41 with value: 0.9051234280391244.\u001b[0m\n",
      "\u001b[32m[I 2024-05-21 19:02:07,329]\u001b[0m Trial 59 finished with value: 0.9367644775655954 and parameters: {'n_estimators': 4, 'max_depth': 8, 'min_samples_split': 4, 'min_samples_leaf': 17, 'max_features': 0.6535334610184189}. Best is trial 41 with value: 0.9051234280391244.\u001b[0m\n",
      "\u001b[32m[I 2024-05-21 19:02:07,986]\u001b[0m Trial 60 finished with value: 0.9525384257102936 and parameters: {'n_estimators': 12, 'max_depth': 7, 'min_samples_split': 2, 'min_samples_leaf': 1, 'max_features': 0.6913169925776571}. Best is trial 41 with value: 0.9051234280391244.\u001b[0m\n",
      "\u001b[32m[I 2024-05-21 19:02:08,316]\u001b[0m Trial 61 finished with value: 0.9033535165346998 and parameters: {'n_estimators': 1, 'max_depth': 8, 'min_samples_split': 3, 'min_samples_leaf': 18, 'max_features': 0.6223398239229329}. Best is trial 61 with value: 0.9033535165346998.\u001b[0m\n",
      "\u001b[32m[I 2024-05-21 19:02:08,851]\u001b[0m Trial 62 finished with value: 0.9437820214252446 and parameters: {'n_estimators': 5, 'max_depth': 8, 'min_samples_split': 3, 'min_samples_leaf': 19, 'max_features': 0.5740614831014937}. Best is trial 61 with value: 0.9033535165346998.\u001b[0m\n",
      "\u001b[32m[I 2024-05-21 19:02:09,218]\u001b[0m Trial 63 finished with value: 0.8874398385343891 and parameters: {'n_estimators': 1, 'max_depth': 9, 'min_samples_split': 4, 'min_samples_leaf': 18, 'max_features': 0.6259534203932821}. Best is trial 63 with value: 0.8874398385343891.\u001b[0m\n",
      "\u001b[32m[I 2024-05-21 19:02:09,770]\u001b[0m Trial 64 finished with value: 0.9314857941313461 and parameters: {'n_estimators': 9, 'max_depth': 8, 'min_samples_split': 4, 'min_samples_leaf': 16, 'max_features': 0.6306897357728292}. Best is trial 63 with value: 0.8874398385343891.\u001b[0m\n",
      "\u001b[32m[I 2024-05-21 19:02:11,635]\u001b[0m Trial 65 finished with value: 0.9438130725042695 and parameters: {'n_estimators': 44, 'max_depth': 9, 'min_samples_split': 2, 'min_samples_leaf': 15, 'max_features': 0.6750403768625269}. Best is trial 63 with value: 0.8874398385343891.\u001b[0m\n",
      "\u001b[32m[I 2024-05-21 19:02:11,929]\u001b[0m Trial 66 finished with value: 0.8963049215960254 and parameters: {'n_estimators': 1, 'max_depth': 7, 'min_samples_split': 3, 'min_samples_leaf': 20, 'max_features': 0.5222665294341078}. Best is trial 63 with value: 0.8874398385343891.\u001b[0m\n",
      "\u001b[32m[I 2024-05-21 19:02:12,551]\u001b[0m Trial 67 finished with value: 0.9367644775655954 and parameters: {'n_estimators': 16, 'max_depth': 9, 'min_samples_split': 4, 'min_samples_leaf': 18, 'max_features': 0.5801680475623392}. Best is trial 63 with value: 0.8874398385343891.\u001b[0m\n",
      "\u001b[32m[I 2024-05-21 19:02:12,889]\u001b[0m Trial 68 finished with value: 0.9279614966620089 and parameters: {'n_estimators': 5, 'max_depth': 7, 'min_samples_split': 5, 'min_samples_leaf': 17, 'max_features': 0.5268118539550589}. Best is trial 63 with value: 0.8874398385343891.\u001b[0m\n",
      "\u001b[32m[I 2024-05-21 19:02:13,381]\u001b[0m Trial 69 finished with value: 0.9385188635305075 and parameters: {'n_estimators': 12, 'max_depth': 3, 'min_samples_split': 3, 'min_samples_leaf': 20, 'max_features': 0.6038778004957583}. Best is trial 63 with value: 0.8874398385343891.\u001b[0m\n",
      "\u001b[32m[I 2024-05-21 19:02:13,820]\u001b[0m Trial 70 finished with value: 0.9385343890700202 and parameters: {'n_estimators': 9, 'max_depth': 6, 'min_samples_split': 4, 'min_samples_leaf': 19, 'max_features': 0.7123613383204537}. Best is trial 63 with value: 0.8874398385343891.\u001b[0m\n",
      "\u001b[32m[I 2024-05-21 19:02:14,093]\u001b[0m Trial 71 finished with value: 0.9051389535786368 and parameters: {'n_estimators': 1, 'max_depth': 7, 'min_samples_split': 2, 'min_samples_leaf': 20, 'max_features': 0.7670141506650419}. Best is trial 63 with value: 0.8874398385343891.\u001b[0m\n",
      "\u001b[32m[I 2024-05-21 19:02:14,433]\u001b[0m Trial 72 finished with value: 0.9385188635305075 and parameters: {'n_estimators': 4, 'max_depth': 6, 'min_samples_split': 3, 'min_samples_leaf': 18, 'max_features': 0.7662545539570047}. Best is trial 63 with value: 0.8874398385343891.\u001b[0m\n",
      "\u001b[32m[I 2024-05-21 19:02:14,963]\u001b[0m Trial 73 finished with value: 0.9350411426797081 and parameters: {'n_estimators': 7, 'max_depth': 8, 'min_samples_split': 2, 'min_samples_leaf': 20, 'max_features': 0.8313197019424263}. Best is trial 63 with value: 0.8874398385343891.\u001b[0m\n",
      "\u001b[32m[I 2024-05-21 19:02:15,237]\u001b[0m Trial 74 finished with value: 0.9244527247321844 and parameters: {'n_estimators': 1, 'max_depth': 7, 'min_samples_split': 3, 'min_samples_leaf': 5, 'max_features': 0.9865074673789174}. Best is trial 63 with value: 0.8874398385343891.\u001b[0m\n",
      "\u001b[32m[I 2024-05-21 19:02:15,619]\u001b[0m Trial 75 finished with value: 0.931516845210371 and parameters: {'n_estimators': 4, 'max_depth': 8, 'min_samples_split': 5, 'min_samples_leaf': 19, 'max_features': 0.9206730747417695}. Best is trial 63 with value: 0.8874398385343891.\u001b[0m\n",
      "\u001b[32m[I 2024-05-21 19:02:16,149]\u001b[0m Trial 76 finished with value: 0.9525850023288308 and parameters: {'n_estimators': 12, 'max_depth': 7, 'min_samples_split': 14, 'min_samples_leaf': 12, 'max_features': 0.5448386591294839}. Best is trial 63 with value: 0.8874398385343891.\u001b[0m\n",
      "\u001b[32m[I 2024-05-21 19:02:16,562]\u001b[0m Trial 77 finished with value: 0.9297624592454587 and parameters: {'n_estimators': 7, 'max_depth': 6, 'min_samples_split': 4, 'min_samples_leaf': 20, 'max_features': 0.5139559050341894}. Best is trial 63 with value: 0.8874398385343891.\u001b[0m\n",
      "\u001b[32m[I 2024-05-21 19:02:16,847]\u001b[0m Trial 78 finished with value: 0.9156342182890856 and parameters: {'n_estimators': 1, 'max_depth': 9, 'min_samples_split': 4, 'min_samples_leaf': 17, 'max_features': 0.4620002581881808}. Best is trial 63 with value: 0.8874398385343891.\u001b[0m\n",
      "\u001b[32m[I 2024-05-21 19:02:17,693]\u001b[0m Trial 79 finished with value: 0.9437975469647568 and parameters: {'n_estimators': 20, 'max_depth': 10, 'min_samples_split': 6, 'min_samples_leaf': 18, 'max_features': 0.6046822625579217}. Best is trial 63 with value: 0.8874398385343891.\u001b[0m\n",
      "\u001b[32m[I 2024-05-21 19:02:18,300]\u001b[0m Trial 80 finished with value: 0.9350256171401956 and parameters: {'n_estimators': 10, 'max_depth': 8, 'min_samples_split': 2, 'min_samples_leaf': 19, 'max_features': 0.6621051504412595}. Best is trial 63 with value: 0.8874398385343891.\u001b[0m\n",
      "\u001b[32m[I 2024-05-21 19:02:18,650]\u001b[0m Trial 81 finished with value: 0.9262226362366093 and parameters: {'n_estimators': 2, 'max_depth': 7, 'min_samples_split': 2, 'min_samples_leaf': 20, 'max_features': 0.6438487912169496}. Best is trial 63 with value: 0.8874398385343891.\u001b[0m\n",
      "\u001b[32m[I 2024-05-21 19:02:19,049]\u001b[0m Trial 82 finished with value: 0.9367644775655954 and parameters: {'n_estimators': 4, 'max_depth': 7, 'min_samples_split': 3, 'min_samples_leaf': 20, 'max_features': 0.616872265745249}. Best is trial 63 with value: 0.8874398385343891.\u001b[0m\n",
      "\u001b[32m[I 2024-05-21 19:02:19,312]\u001b[0m Trial 83 finished with value: 0.9297158826269213 and parameters: {'n_estimators': 1, 'max_depth': 7, 'min_samples_split': 2, 'min_samples_leaf': 19, 'max_features': 0.4249425188053825}. Best is trial 63 with value: 0.8874398385343891.\u001b[0m\n",
      "\u001b[32m[I 2024-05-21 19:02:19,730]\u001b[0m Trial 84 finished with value: 0.9385188635305077 and parameters: {'n_estimators': 7, 'max_depth': 5, 'min_samples_split': 3, 'min_samples_leaf': 20, 'max_features': 0.57903092229112}. Best is trial 63 with value: 0.8874398385343891.\u001b[0m\n",
      "\u001b[32m[I 2024-05-21 19:02:20,162]\u001b[0m Trial 85 finished with value: 0.924468250271697 and parameters: {'n_estimators': 3, 'max_depth': 8, 'min_samples_split': 3, 'min_samples_leaf': 18, 'max_features': 0.7965349573565529}. Best is trial 63 with value: 0.8874398385343891.\u001b[0m\n",
      "\u001b[32m[I 2024-05-21 19:02:20,759]\u001b[0m Trial 86 finished with value: 0.9367644775655954 and parameters: {'n_estimators': 15, 'max_depth': 6, 'min_samples_split': 2, 'min_samples_leaf': 19, 'max_features': 0.6851186070321406}. Best is trial 63 with value: 0.8874398385343891.\u001b[0m\n",
      "\u001b[32m[I 2024-05-21 19:02:21,217]\u001b[0m Trial 87 finished with value: 0.9367644775655954 and parameters: {'n_estimators': 11, 'max_depth': 7, 'min_samples_split': 4, 'min_samples_leaf': 18, 'max_features': 0.5585838309838594}. Best is trial 63 with value: 0.8874398385343891.\u001b[0m\n",
      "\u001b[32m[I 2024-05-21 19:02:21,608]\u001b[0m Trial 88 finished with value: 0.9385188635305077 and parameters: {'n_estimators': 6, 'max_depth': 8, 'min_samples_split': 5, 'min_samples_leaf': 20, 'max_features': 0.7174154737422335}. Best is trial 63 with value: 0.8874398385343891.\u001b[0m\n",
      "\u001b[32m[I 2024-05-21 19:02:23,582]\u001b[0m Trial 89 finished with value: 0.943797546964757 and parameters: {'n_estimators': 59, 'max_depth': 7, 'min_samples_split': 2, 'min_samples_leaf': 19, 'max_features': 0.7563871730172695}. Best is trial 63 with value: 0.8874398385343891.\u001b[0m\n",
      "\u001b[32m[I 2024-05-21 19:02:24,562]\u001b[0m Trial 90 finished with value: 0.9455519329296692 and parameters: {'n_estimators': 27, 'max_depth': 6, 'min_samples_split': 11, 'min_samples_leaf': 17, 'max_features': 0.5217826261629954}. Best is trial 63 with value: 0.8874398385343891.\u001b[0m\n",
      "\u001b[32m[I 2024-05-21 19:02:24,847]\u001b[0m Trial 91 finished with value: 0.9103710603943487 and parameters: {'n_estimators': 1, 'max_depth': 9, 'min_samples_split': 4, 'min_samples_leaf': 19, 'max_features': 0.4822637133431608}. Best is trial 63 with value: 0.8874398385343891.\u001b[0m\n",
      "\u001b[32m[I 2024-05-21 19:02:25,182]\u001b[0m Trial 92 finished with value: 0.9314702685918336 and parameters: {'n_estimators': 3, 'max_depth': 9, 'min_samples_split': 4, 'min_samples_leaf': 19, 'max_features': 0.491505924038338}. Best is trial 63 with value: 0.8874398385343891.\u001b[0m\n",
      "\u001b[32m[I 2024-05-21 19:02:25,492]\u001b[0m Trial 93 finished with value: 0.9139264089427106 and parameters: {'n_estimators': 1, 'max_depth': 9, 'min_samples_split': 3, 'min_samples_leaf': 18, 'max_features': 0.5951216648369098}. Best is trial 63 with value: 0.8874398385343891.\u001b[0m\n",
      "\u001b[32m[I 2024-05-21 19:02:25,897]\u001b[0m Trial 94 finished with value: 0.9332557056357708 and parameters: {'n_estimators': 7, 'max_depth': 10, 'min_samples_split': 3, 'min_samples_leaf': 20, 'max_features': 0.47282634971448406}. Best is trial 63 with value: 0.8874398385343891.\u001b[0m\n",
      "\u001b[32m[I 2024-05-21 19:02:26,375]\u001b[0m Trial 95 finished with value: 0.9402887750349326 and parameters: {'n_estimators': 5, 'max_depth': 8, 'min_samples_split': 5, 'min_samples_leaf': 19, 'max_features': 0.636110325618654}. Best is trial 63 with value: 0.8874398385343891.\u001b[0m\n",
      "\u001b[32m[I 2024-05-21 19:02:26,699]\u001b[0m Trial 96 finished with value: 0.9296537804688713 and parameters: {'n_estimators': 3, 'max_depth': 8, 'min_samples_split': 2, 'min_samples_leaf': 20, 'max_features': 0.5410236976979902}. Best is trial 63 with value: 0.8874398385343891.\u001b[0m\n",
      "\u001b[32m[I 2024-05-21 19:02:27,225]\u001b[0m Trial 97 finished with value: 0.9367489520260829 and parameters: {'n_estimators': 9, 'max_depth': 9, 'min_samples_split': 6, 'min_samples_leaf': 18, 'max_features': 0.5639586298856485}. Best is trial 63 with value: 0.8874398385343891.\u001b[0m\n",
      "\u001b[32m[I 2024-05-21 19:02:27,534]\u001b[0m Trial 98 finished with value: 0.912125446359261 and parameters: {'n_estimators': 1, 'max_depth': 7, 'min_samples_split': 4, 'min_samples_leaf': 16, 'max_features': 0.39362114410823584}. Best is trial 63 with value: 0.8874398385343891.\u001b[0m\n",
      "\u001b[32m[I 2024-05-21 19:02:30,132]\u001b[0m Trial 99 finished with value: 0.9490607048594939 and parameters: {'n_estimators': 76, 'max_depth': 9, 'min_samples_split': 4, 'min_samples_leaf': 15, 'max_features': 0.39937187628423004}. Best is trial 63 with value: 0.8874398385343891.\u001b[0m\n"
     ]
    }
   ],
   "source": [
    "# 5. Run a hyperparameter search and log the results\n",
    "import optuna\n",
    "import mlflow\n",
    "from sklearn.ensemble import RandomForestClassifier\n",
    "from sklearn.model_selection import cross_val_score\n",
    "\n",
    "X, y = get_data()\n",
    "\n",
    "def optimize_rf(trial):\n",
    "    \n",
    "    with mlflow.start_run(run_name=f\"optuna-hp-{trial.number}-{datetime.datetime.now().strftime('%Y-%m-%d-%H-%M-%S')}\"):\n",
    "        # Set the hyperparameter values that we want to optimize\n",
    "        n_estimators = trial.suggest_int('n_estimators', 1, 100)\n",
    "        max_depth = trial.suggest_int('max_depth', 2, 10)\n",
    "        min_samples_split = trial.suggest_int('min_samples_split', 2, 20)\n",
    "        min_samples_leaf = trial.suggest_int('min_samples_leaf', 1, 20)\n",
    "        max_features = trial.suggest_float('max_features', 0.1, 1.0)\n",
    "        \n",
    "        \n",
    "        # Create a random forest classifier using the suggested hyperparameters\n",
    "        rf = RandomForestClassifier(n_estimators=n_estimators, max_depth=max_depth,\n",
    "                                    min_samples_split=min_samples_split,\n",
    "                                    min_samples_leaf=min_samples_leaf,\n",
    "                                    max_features=max_features)\n",
    "        \n",
    "        # Use cross-validation to evaluate the performance of the classifier\n",
    "        scores = cross_val_score(rf, X, y, cv=5)\n",
    "        \n",
    "        # Log the hyperparameters and cross-validation scores to MLflow\n",
    "        mlflow.log_param('n_estimators', n_estimators)\n",
    "        mlflow.log_param('max_depth', max_depth)\n",
    "        mlflow.log_param('min_samples_split', min_samples_split)\n",
    "        mlflow.log_param('min_samples_leaf', min_samples_leaf)\n",
    "        mlflow.log_param('max_features', max_features)\n",
    "        mlflow.log_metric('mean_cv_score', scores.mean())\n",
    "    \n",
    "    # Return the mean of the cross-validation scores as the objective value\n",
    "    return scores.mean()\n",
    "\n",
    "# Create an Optuna study\n",
    "study = optuna.create_study()\n",
    "\n",
    "# Run the optimization loop\n",
    "study.optimize(optimize_rf, n_trials=100)\n",
    "\n",
    "# Get the best hyperparameter values\n",
    "best_params = study.best_params"
   ]
  },
  {
   "cell_type": "code",
   "execution_count": 9,
   "metadata": {},
   "outputs": [
    {
     "name": "stderr",
     "output_type": "stream",
     "text": [
      "Successfully registered model 'random_forest_model'.\n",
      "2024/05/21 19:02:35 INFO mlflow.tracking._model_registry.client: Waiting up to 300 seconds for model version to finish creation.                     Model name: random_forest_model, version 1\n",
      "Created version '1' of model 'random_forest_model'.\n"
     ]
    }
   ],
   "source": [
    "# 6. Register a model version using the best hyperparameters\n",
    "\n",
    "with mlflow.start_run(run_name=f\"optuna-hp-final\"):\n",
    "    # Create the final model using the best hyperparameters\n",
    "    final_model = RandomForestClassifier(**best_params)\n",
    "\n",
    "    # Train the final model on the entire dataset\n",
    "    final_model.fit(X, y)\n",
    "\n",
    "    # Log the model to the \"Models\" section\n",
    "    mlflow.sklearn.log_model(final_model, \"random_forest_model\", registered_model_name=\"random_forest_model\")\n",
    "\n"
   ]
  },
  {
   "cell_type": "code",
   "execution_count": 10,
   "metadata": {},
   "outputs": [
    {
     "data": {
      "text/plain": [
       "array([0, 0, 0, 1, 0])"
      ]
     },
     "execution_count": 10,
     "metadata": {},
     "output_type": "execute_result"
    }
   ],
   "source": [
    "# 7. Retrieve a model version and use it for prediction\n",
    "\n",
    "import mlflow.pyfunc\n",
    "\n",
    "model_name = \"random_forest_model\"\n",
    "model_version = 1\n",
    "\n",
    "model = mlflow.pyfunc.load_model(\n",
    "    model_uri=f\"models:/{model_name}/{model_version}\"\n",
    ")\n",
    "\n",
    "model.predict(X[:5])"
   ]
  },
  {
   "cell_type": "code",
   "execution_count": null,
   "metadata": {},
   "outputs": [],
   "source": [
    "import mlflow\n",
    "logged_model = 'runs:/26c840f435be48adbf4c2dfa720ec680/random_forest_model'\n",
    "\n",
    "# Load model as a PyFuncModel.\n",
    "loaded_model = mlflow.pyfunc.load_model(logged_model)\n",
    "\n",
    "# Predict on a Pandas DataFrame.\n",
    "import pandas as pd\n",
    "loaded_model.predict(X[:10])"
   ]
  },
  {
   "cell_type": "code",
   "execution_count": null,
   "metadata": {},
   "outputs": [],
   "source": [
    "# EXTRA: Deploy the model to a REST API endpoint with mlflow models serve\n",
    "# Set up env variables\n",
    "# export $(grep -v '^#' .env | xargs)\n",
    "# export MLFLOW_TRACKING_URI=http://localhost:5000"
   ]
  },
  {
   "cell_type": "code",
   "execution_count": null,
   "metadata": {},
   "outputs": [],
   "source": [
    "# Using python_function backend\n",
    "# mlflow models serve --model-uri s3://mlflow/1/e18a1a1695e844258403040ae6e6cb4b/artifacts/random_forest_model --env-manager=local -p 5002\n",
    "# Try it out with curl\n",
    "\n",
    "# curl -d '{\"inputs\":[[ 1.48722421,  1.02475923,  6.03974507, -1.72832624]]}' -H 'Content-Type: application/json'  localhost:5002/invocations"
   ]
  },
  {
   "cell_type": "code",
   "execution_count": null,
   "metadata": {},
   "outputs": [],
   "source": [
    "# Using MLServer backend\n",
    "# mlflow models serve --model-uri s3://mlflow/1/e18a1a1695e844258403040ae6e6cb4b/artifacts/random_forest_model --env-manager=local -p 5002 --enable-mlserver\n",
    "# Try it out with curl\n",
    "\n",
    "# curl -d '{\"inputs\":[[ 1.48722421,  1.02475923,  6.03974507, -1.72832624]]}' -H 'Content-Type: application/json'  localhost:5002/invocations\n",
    "\n"
   ]
  },
  {
   "cell_type": "code",
   "execution_count": null,
   "metadata": {},
   "outputs": [],
   "source": [
    "# Undeploy mlflow docker compose\n",
    "# docker-compose down"
   ]
  }
 ],
 "metadata": {
  "kernelspec": {
   "display_name": "productionalization",
   "language": "python",
   "name": "python3"
  },
  "language_info": {
   "codemirror_mode": {
    "name": "ipython",
    "version": 3
   },
   "file_extension": ".py",
   "mimetype": "text/x-python",
   "name": "python",
   "nbconvert_exporter": "python",
   "pygments_lexer": "ipython3",
   "version": "3.10.11"
  },
  "orig_nbformat": 4,
  "vscode": {
   "interpreter": {
    "hash": "5ed29f95de7cc8ac0f18a32ccae5fbddd3dba9010e060d505f2ebe31fc64f080"
   }
  }
 },
 "nbformat": 4,
 "nbformat_minor": 2
}
