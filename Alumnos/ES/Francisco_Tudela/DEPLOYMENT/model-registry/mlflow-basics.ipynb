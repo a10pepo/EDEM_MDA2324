{
 "cells": [
  {
   "attachments": {},
   "cell_type": "markdown",
   "metadata": {},
   "source": [
    "<font color=\"#CA3532\"><h1 align=\"left\">Master Data Analytics. EDEM.</h1></font>\n",
    "<font color=\"#6E6E6E\"><h2 align=\"left\">Herramientas MLOps.</h2></font> \n",
    "<font color=\"#6E6E6E\"><h2 align=\"left\">Tarea 1. Explorando el uso de MLFlow.</h2></font> \n",
    "#### Daniel Ruiz Riquelme"
   ]
  },
  {
   "cell_type": "code",
   "execution_count": 11,
   "metadata": {},
   "outputs": [],
   "source": [
    "import os\n",
    "from random import random, randint\n",
    "import mlflow\n",
    "from mlflow import log_metric, log_param, log_artifact"
   ]
  },
  {
   "cell_type": "code",
   "execution_count": null,
   "metadata": {},
   "outputs": [],
   "source": [
    "# Start MLflow server\n",
    "# mlflow server --backend-store-uri ./mlruns --default-artifact-root ./mlruns\n",
    "\n",
    "# Parameters:\n",
    "# --backend-store-uri: URI to which backend store should log. Defaults to ./mlruns\n",
    "# --default-artifact-root: URI to which artifact store should log. Defaults to ./mlruns"
   ]
  },
  {
   "cell_type": "code",
   "execution_count": 12,
   "metadata": {},
   "outputs": [
    {
     "data": {
      "text/plain": [
       "<Experiment: artifact_location='./mlruns/838184591032159686', creation_time=1716309108636, experiment_id='838184591032159686', last_update_time=1716309108636, lifecycle_stage='active', name='mlflow-tutorial', tags={}>"
      ]
     },
     "execution_count": 12,
     "metadata": {},
     "output_type": "execute_result"
    }
   ],
   "source": [
    "# Configure MLflow\n",
    "mlflow.set_tracking_uri(\"http://localhost:5000\")\n",
    "mlflow.set_experiment(\"mlflow-tutorial\")"
   ]
  },
  {
   "cell_type": "code",
   "execution_count": 16,
   "metadata": {},
   "outputs": [
    {
     "data": {
      "text/plain": [
       "67"
      ]
     },
     "execution_count": 16,
     "metadata": {},
     "output_type": "execute_result"
    }
   ],
   "source": [
    "# Log a parameter (key-value pair)\n",
    "log_param(\"param3\", randint(0, 100))"
   ]
  },
  {
   "cell_type": "code",
   "execution_count": 17,
   "metadata": {},
   "outputs": [],
   "source": [
    "# Log a metric; metrics can be updated throughout the run\n",
    "log_metric(\"foo\", random())"
   ]
  },
  {
   "cell_type": "code",
   "execution_count": 18,
   "metadata": {},
   "outputs": [],
   "source": [
    "log_metric(\"foo\", random() + 1)"
   ]
  },
  {
   "cell_type": "code",
   "execution_count": 19,
   "metadata": {},
   "outputs": [],
   "source": [
    "log_metric(\"foo\", random() + 2)"
   ]
  },
  {
   "cell_type": "code",
   "execution_count": 20,
   "metadata": {},
   "outputs": [],
   "source": [
    "# Log an artifact (output file)\n",
    "if not os.path.exists(\"outputs\"):\n",
    "    os.makedirs(\"outputs\")\n",
    "    \n",
    "with open(\"outputs/test.txt\", \"w\") as f:\n",
    "    f.write(\"Hello world!\")\n",
    "    \n",
    "log_artifact(\"outputs\")"
   ]
  }
 ],
 "metadata": {
  "kernelspec": {
   "display_name": "productionalization",
   "language": "python",
   "name": "python3"
  },
  "language_info": {
   "codemirror_mode": {
    "name": "ipython",
    "version": 3
   },
   "file_extension": ".py",
   "mimetype": "text/x-python",
   "name": "python",
   "nbconvert_exporter": "python",
   "pygments_lexer": "ipython3",
   "version": "3.10.11"
  },
  "orig_nbformat": 4,
  "vscode": {
   "interpreter": {
    "hash": "5ed29f95de7cc8ac0f18a32ccae5fbddd3dba9010e060d505f2ebe31fc64f080"
   }
  }
 },
 "nbformat": 4,
 "nbformat_minor": 2
}
