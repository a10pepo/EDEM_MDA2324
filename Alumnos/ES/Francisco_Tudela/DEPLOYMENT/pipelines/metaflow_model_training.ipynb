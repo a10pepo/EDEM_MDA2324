{
  "cells": [
    {
      "cell_type": "markdown",
      "metadata": {
        "id": "I3m-X_vFtK6Z"
      },
      "source": [
        "<font color=\"#CA3532\"><h1 align=\"left\">Master Data Analytics. EDEM.</h1></font>\n",
        "<font color=\"#6E6E6E\"><h2 align=\"left\">Herramientas MLOps.</h2></font>\n",
        "<font color=\"#6E6E6E\"><h2 align=\"left\">Tarea 1. Pipeline entrenamiento de modelos.</h2></font>\n",
        "#### Daniel Ruiz Riquelme\n",
        "https://docs.metaflow.org/metaflow/basics"
      ]
    },
    {
      "cell_type": "markdown",
      "metadata": {
        "id": "xziRrG86tK6e"
      },
      "source": [
        "##  Install dependencies"
      ]
    },
    {
      "cell_type": "code",
      "execution_count": 1,
      "metadata": {
        "colab": {
          "base_uri": "https://localhost:8080/"
        },
        "id": "5M0MgeaHtK6g",
        "outputId": "c70862dd-b358-4db9-9290-8d9c680a01c5"
      },
      "outputs": [
        {
          "output_type": "stream",
          "name": "stdout",
          "text": [
            "Collecting metaflow\n",
            "  Downloading metaflow-2.11.16-py2.py3-none-any.whl (1.3 MB)\n",
            "\u001b[?25l     \u001b[90m━━━━━━━━━━━━━━━━━━━━━━━━━━━━━━━━━━━━━━━━\u001b[0m \u001b[32m0.0/1.3 MB\u001b[0m \u001b[31m?\u001b[0m eta \u001b[36m-:--:--\u001b[0m\r\u001b[2K     \u001b[91m━━━━━\u001b[0m\u001b[91m╸\u001b[0m\u001b[90m━━━━━━━━━━━━━━━━━━━━━━━━━━━━━━━━━━\u001b[0m \u001b[32m0.2/1.3 MB\u001b[0m \u001b[31m5.7 MB/s\u001b[0m eta \u001b[36m0:00:01\u001b[0m\r\u001b[2K     \u001b[91m━━━━━━━━━━━━━━━━━━━━━━━━━━━━━━━━━━━━━━━\u001b[0m\u001b[91m╸\u001b[0m \u001b[32m1.3/1.3 MB\u001b[0m \u001b[31m20.6 MB/s\u001b[0m eta \u001b[36m0:00:01\u001b[0m\r\u001b[2K     \u001b[90m━━━━━━━━━━━━━━━━━━━━━━━━━━━━━━━━━━━━━━━━\u001b[0m \u001b[32m1.3/1.3 MB\u001b[0m \u001b[31m15.5 MB/s\u001b[0m eta \u001b[36m0:00:00\u001b[0m\n",
            "\u001b[?25hRequirement already satisfied: requests in /usr/local/lib/python3.10/dist-packages (from metaflow) (2.31.0)\n",
            "Collecting boto3 (from metaflow)\n",
            "  Downloading boto3-1.34.110-py3-none-any.whl (139 kB)\n",
            "\u001b[2K     \u001b[90m━━━━━━━━━━━━━━━━━━━━━━━━━━━━━━━━━━━━━━━━\u001b[0m \u001b[32m139.3/139.3 kB\u001b[0m \u001b[31m2.7 MB/s\u001b[0m eta \u001b[36m0:00:00\u001b[0m\n",
            "\u001b[?25hCollecting botocore<1.35.0,>=1.34.110 (from boto3->metaflow)\n",
            "  Downloading botocore-1.34.110-py3-none-any.whl (12.3 MB)\n",
            "\u001b[2K     \u001b[90m━━━━━━━━━━━━━━━━━━━━━━━━━━━━━━━━━━━━━━━━\u001b[0m \u001b[32m12.3/12.3 MB\u001b[0m \u001b[31m59.3 MB/s\u001b[0m eta \u001b[36m0:00:00\u001b[0m\n",
            "\u001b[?25hCollecting jmespath<2.0.0,>=0.7.1 (from boto3->metaflow)\n",
            "  Downloading jmespath-1.0.1-py3-none-any.whl (20 kB)\n",
            "Collecting s3transfer<0.11.0,>=0.10.0 (from boto3->metaflow)\n",
            "  Downloading s3transfer-0.10.1-py3-none-any.whl (82 kB)\n",
            "\u001b[2K     \u001b[90m━━━━━━━━━━━━━━━━━━━━━━━━━━━━━━━━━━━━━━━━\u001b[0m \u001b[32m82.2/82.2 kB\u001b[0m \u001b[31m6.8 MB/s\u001b[0m eta \u001b[36m0:00:00\u001b[0m\n",
            "\u001b[?25hRequirement already satisfied: charset-normalizer<4,>=2 in /usr/local/lib/python3.10/dist-packages (from requests->metaflow) (3.3.2)\n",
            "Requirement already satisfied: idna<4,>=2.5 in /usr/local/lib/python3.10/dist-packages (from requests->metaflow) (3.7)\n",
            "Requirement already satisfied: urllib3<3,>=1.21.1 in /usr/local/lib/python3.10/dist-packages (from requests->metaflow) (2.0.7)\n",
            "Requirement already satisfied: certifi>=2017.4.17 in /usr/local/lib/python3.10/dist-packages (from requests->metaflow) (2024.2.2)\n",
            "Requirement already satisfied: python-dateutil<3.0.0,>=2.1 in /usr/local/lib/python3.10/dist-packages (from botocore<1.35.0,>=1.34.110->boto3->metaflow) (2.8.2)\n",
            "Requirement already satisfied: six>=1.5 in /usr/local/lib/python3.10/dist-packages (from python-dateutil<3.0.0,>=2.1->botocore<1.35.0,>=1.34.110->boto3->metaflow) (1.16.0)\n",
            "Installing collected packages: jmespath, botocore, s3transfer, boto3, metaflow\n",
            "Successfully installed boto3-1.34.110 botocore-1.34.110 jmespath-1.0.1 metaflow-2.11.16 s3transfer-0.10.1\n",
            "Requirement already satisfied: scikit-learn in /usr/local/lib/python3.10/dist-packages (1.2.2)\n",
            "Requirement already satisfied: numpy>=1.17.3 in /usr/local/lib/python3.10/dist-packages (from scikit-learn) (1.25.2)\n",
            "Requirement already satisfied: scipy>=1.3.2 in /usr/local/lib/python3.10/dist-packages (from scikit-learn) (1.11.4)\n",
            "Requirement already satisfied: joblib>=1.1.1 in /usr/local/lib/python3.10/dist-packages (from scikit-learn) (1.4.2)\n",
            "Requirement already satisfied: threadpoolctl>=2.0.0 in /usr/local/lib/python3.10/dist-packages (from scikit-learn) (3.5.0)\n",
            "Requirement already satisfied: pandas in /usr/local/lib/python3.10/dist-packages (2.0.3)\n",
            "Requirement already satisfied: python-dateutil>=2.8.2 in /usr/local/lib/python3.10/dist-packages (from pandas) (2.8.2)\n",
            "Requirement already satisfied: pytz>=2020.1 in /usr/local/lib/python3.10/dist-packages (from pandas) (2023.4)\n",
            "Requirement already satisfied: tzdata>=2022.1 in /usr/local/lib/python3.10/dist-packages (from pandas) (2024.1)\n",
            "Requirement already satisfied: numpy>=1.21.0 in /usr/local/lib/python3.10/dist-packages (from pandas) (1.25.2)\n",
            "Requirement already satisfied: six>=1.5 in /usr/local/lib/python3.10/dist-packages (from python-dateutil>=2.8.2->pandas) (1.16.0)\n"
          ]
        }
      ],
      "source": [
        "!pip install metaflow\n",
        "!pip install scikit-learn\n",
        "!pip install pandas"
      ]
    },
    {
      "cell_type": "markdown",
      "metadata": {
        "id": "fVO9yDfItK6j"
      },
      "source": [
        "## Set username"
      ]
    },
    {
      "cell_type": "code",
      "execution_count": 2,
      "metadata": {
        "id": "fJQ2VYi7tK6n"
      },
      "outputs": [],
      "source": [
        "# Set username for workflows\n",
        "import os\n",
        "os.environ[\"USERNAME\"] = \"daniel\""
      ]
    },
    {
      "cell_type": "code",
      "execution_count": 6,
      "metadata": {
        "colab": {
          "base_uri": "https://localhost:8080/"
        },
        "id": "4C6N3_KFtK6u",
        "outputId": "5d7f4659-a9bf-4166-af86-bbfdd23dc944"
      },
      "outputs": [
        {
          "output_type": "stream",
          "name": "stdout",
          "text": [
            "Overwriting metaflow_trainingflow.py\n"
          ]
        }
      ],
      "source": [
        "%%writefile metaflow_trainingflow.py\n",
        "from metaflow import FlowSpec, Parameter, step\n",
        "import numpy as np\n",
        "import pandas as pd\n",
        "from sklearn.ensemble import RandomForestClassifier\n",
        "from sklearn.model_selection import train_test_split\n",
        "from sklearn.datasets import load_iris\n",
        "from sklearn.metrics import classification_report, confusion_matrix, accuracy_score\n",
        "\n",
        "class TrainingFlow(FlowSpec):\n",
        "    # Define the parameters for the flow\n",
        "    max_depth = Parameter('max_depth', default=2, help='Max depth of the random forest classifier')\n",
        "    n_estimators = Parameter('n_estimators', default=100, help='Number of estimators for the random forest classifier')\n",
        "    random_state = Parameter('random_state', default=0, help='Random state for the random forest classifier')\n",
        "\n",
        "    @step\n",
        "    def start(self):\n",
        "        # Start the flow\n",
        "        self.next(self.ingest_data)\n",
        "\n",
        "    @step\n",
        "    def ingest_data(self):\n",
        "        # Load the iris dataset\n",
        "        iris = load_iris()\n",
        "\n",
        "        # pylint: disable=no-member\n",
        "        self.X = iris.data\n",
        "        self.y = iris.target\n",
        "        # pylint: enable=no-member\n",
        "\n",
        "        self.next(self.split_data)\n",
        "\n",
        "    @step\n",
        "    def split_data(self):\n",
        "        # Split the data into train and test\n",
        "        self.X_train, self.X_test, self.y_train, self.y_test = train_test_split(self.X, self.y, test_size=0.2, random_state=self.random_state)\n",
        "        self.next(self.train)\n",
        "\n",
        "    @step\n",
        "    def train(self):\n",
        "        # Train the model\n",
        "        self.clf = RandomForestClassifier(max_depth=self.max_depth, n_estimators=self.n_estimators, random_state=self.random_state)\n",
        "        self.clf.fit(self.X_train, self.y_train)\n",
        "        self.next(self.show_metrics)\n",
        "\n",
        "    @step\n",
        "    def show_metrics(self):\n",
        "        # Print some metrics\n",
        "        y_pred = self.clf.predict(self.X_test)\n",
        "        print(accuracy_score(self.y_test, y_pred))\n",
        "        self.next(self.register_model)\n",
        "\n",
        "    @step\n",
        "    def register_model(self):\n",
        "        # Save the model in a pickle file in local storage\n",
        "        import pickle\n",
        "        with open('model.pkl', 'wb') as f:\n",
        "            pickle.dump(self.clf, f)\n",
        "        self.next(self.end)\n",
        "\n",
        "    @step\n",
        "    def end(self):\n",
        "        pass\n",
        "\n",
        "if __name__ == '__main__':\n",
        "    TrainingFlow()\n"
      ]
    },
    {
      "cell_type": "code",
      "execution_count": 7,
      "metadata": {
        "colab": {
          "base_uri": "https://localhost:8080/"
        },
        "id": "iFgC8jJMtK6x",
        "outputId": "641c1201-f12e-4ddf-deb2-345ac51e8a2c"
      },
      "outputs": [
        {
          "output_type": "stream",
          "name": "stdout",
          "text": [
            "\u001b[35m\u001b[1mMetaflow 2.11.16\u001b[0m\u001b[35m\u001b[22m executing \u001b[0m\u001b[31m\u001b[1mTrainingFlow\u001b[0m\u001b[35m\u001b[22m\u001b[0m\u001b[35m\u001b[22m for \u001b[0m\u001b[31m\u001b[1muser:daniel\u001b[0m\u001b[35m\u001b[22m\u001b[K\u001b[0m\u001b[35m\u001b[22m\u001b[0m\n",
            "\u001b[35m\u001b[22mValidating your flow...\u001b[K\u001b[0m\u001b[35m\u001b[22m\u001b[0m\n",
            "\u001b[32m\u001b[1m    The graph looks good!\u001b[K\u001b[0m\u001b[32m\u001b[1m\u001b[0m\n",
            "\u001b[35m\u001b[22mRunning pylint...\u001b[K\u001b[0m\u001b[35m\u001b[22m\u001b[0m\n",
            "\u001b[32m\u001b[22m    Pylint not found, so extra checks are disabled.\u001b[K\u001b[0m\u001b[32m\u001b[22m\u001b[0m\n",
            "\u001b[35m2024-05-22 14:46:36.751 \u001b[0m\u001b[1mWorkflow starting (run-id 1716389196750093):\u001b[0m\n",
            "\u001b[35m2024-05-22 14:46:36.759 \u001b[0m\u001b[32m[1716389196750093/start/1 (pid 4212)] \u001b[0m\u001b[1mTask is starting.\u001b[0m\n",
            "\u001b[35m2024-05-22 14:46:38.360 \u001b[0m\u001b[32m[1716389196750093/start/1 (pid 4212)] \u001b[0m\u001b[1mTask finished successfully.\u001b[0m\n",
            "\u001b[35m2024-05-22 14:46:38.364 \u001b[0m\u001b[32m[1716389196750093/ingest_data/2 (pid 4243)] \u001b[0m\u001b[1mTask is starting.\u001b[0m\n",
            "\u001b[35m2024-05-22 14:46:39.927 \u001b[0m\u001b[32m[1716389196750093/ingest_data/2 (pid 4243)] \u001b[0m\u001b[1mTask finished successfully.\u001b[0m\n",
            "\u001b[35m2024-05-22 14:46:39.931 \u001b[0m\u001b[32m[1716389196750093/split_data/3 (pid 4278)] \u001b[0m\u001b[1mTask is starting.\u001b[0m\n",
            "\u001b[35m2024-05-22 14:46:41.625 \u001b[0m\u001b[32m[1716389196750093/split_data/3 (pid 4278)] \u001b[0m\u001b[1mTask finished successfully.\u001b[0m\n",
            "\u001b[35m2024-05-22 14:46:41.629 \u001b[0m\u001b[32m[1716389196750093/train/4 (pid 4309)] \u001b[0m\u001b[1mTask is starting.\u001b[0m\n",
            "\u001b[35m2024-05-22 14:46:43.322 \u001b[0m\u001b[32m[1716389196750093/train/4 (pid 4309)] \u001b[0m\u001b[1mTask finished successfully.\u001b[0m\n",
            "\u001b[35m2024-05-22 14:46:43.326 \u001b[0m\u001b[32m[1716389196750093/show_metrics/5 (pid 4344)] \u001b[0m\u001b[1mTask is starting.\u001b[0m\n",
            "\u001b[35m2024-05-22 14:46:44.594 \u001b[0m\u001b[32m[1716389196750093/show_metrics/5 (pid 4344)] \u001b[0m\u001b[22m1.0\u001b[0m\n",
            "\u001b[35m2024-05-22 14:46:44.851 \u001b[0m\u001b[32m[1716389196750093/show_metrics/5 (pid 4344)] \u001b[0m\u001b[1mTask finished successfully.\u001b[0m\n",
            "\u001b[35m2024-05-22 14:46:44.855 \u001b[0m\u001b[32m[1716389196750093/register_model/6 (pid 4379)] \u001b[0m\u001b[1mTask is starting.\u001b[0m\n",
            "\u001b[35m2024-05-22 14:46:46.385 \u001b[0m\u001b[32m[1716389196750093/register_model/6 (pid 4379)] \u001b[0m\u001b[1mTask finished successfully.\u001b[0m\n",
            "\u001b[35m2024-05-22 14:46:46.389 \u001b[0m\u001b[32m[1716389196750093/end/7 (pid 4410)] \u001b[0m\u001b[1mTask is starting.\u001b[0m\n",
            "\u001b[35m2024-05-22 14:46:47.916 \u001b[0m\u001b[32m[1716389196750093/end/7 (pid 4410)] \u001b[0m\u001b[1mTask finished successfully.\u001b[0m\n",
            "\u001b[35m2024-05-22 14:46:47.917 \u001b[0m\u001b[1mDone!\u001b[0m\n"
          ]
        }
      ],
      "source": [
        "!python metaflow_trainingflow.py run --max_depth 2 --n_estimators 100 --random_state 0"
      ]
    }
  ],
  "metadata": {
    "kernelspec": {
      "display_name": "Python 3",
      "name": "python3"
    },
    "language_info": {
      "codemirror_mode": {
        "name": "ipython",
        "version": 3
      },
      "file_extension": ".py",
      "mimetype": "text/x-python",
      "name": "python",
      "nbconvert_exporter": "python",
      "pygments_lexer": "ipython3",
      "version": "3.10.8"
    },
    "orig_nbformat": 4,
    "vscode": {
      "interpreter": {
        "hash": "5ed29f95de7cc8ac0f18a32ccae5fbddd3dba9010e060d505f2ebe31fc64f080"
      }
    },
    "colab": {
      "provenance": [],
      "machine_shape": "hm"
    }
  },
  "nbformat": 4,
  "nbformat_minor": 0
}